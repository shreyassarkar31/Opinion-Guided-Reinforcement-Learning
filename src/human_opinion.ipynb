{
 "cells": [
  {
   "cell_type": "code",
   "execution_count": 52,
   "metadata": {
    "jupyter": {
     "source_hidden": true
    }
   },
   "outputs": [],
   "source": [
    "import numpy as np\n",
    "import gymnasium as gym\n",
    "\n",
    "env = gym.make('FrozenLake-v1', map_name = '4x4')\n",
    "states = env.observation_space.n\n",
    "actions = env.action_space.n\n",
    "n = int(np.sqrt(states))"
   ]
  },
  {
   "cell_type": "markdown",
   "metadata": {},
   "source": [
    "# Functions"
   ]
  },
  {
   "cell_type": "markdown",
   "metadata": {},
   "source": [
    "## `identify_states`"
   ]
  },
  {
   "cell_type": "markdown",
   "metadata": {},
   "source": [
    "Consider state 9 in frozen lake. The actions that lead to this state are:\n",
    "- left (0) from state 10\n",
    "- down (1) from state 5\n",
    "- right (2) from state 8\n",
    "- up from (3) state 13\n",
    "\n",
    "Consider state 4 in frozen lake. The actions that lead to this state are:\n",
    "- left (0) from state 5\n",
    "- down (1) from state 0\n",
    "- up (3) from state 8\n",
    "\n",
    "Note that inner states will be accesible by 4 states and actions, while states on an edge are accessible from 3 states and actions. States on the corners are accessible from 2 states and actions. \\\n",
    "The `identify_states` function groups states that are along an edge into a list. "
   ]
  },
  {
   "cell_type": "code",
   "execution_count": 53,
   "metadata": {
    "jupyter": {
     "source_hidden": true
    }
   },
   "outputs": [],
   "source": [
    "def identify_states(n):\n",
    "    top_row = []\n",
    "    for i in range(0, n):\n",
    "        top_row.append(i)\n",
    "\n",
    "    bottom_row = []\n",
    "    for i in range(0, n):\n",
    "        state = n ** 2 - n + i\n",
    "        bottom_row.append(state)\n",
    "\n",
    "    left_col = []\n",
    "    for i in range(0, n):\n",
    "        state = n * i\n",
    "        left_col.append(state)\n",
    "\n",
    "    right_col = []\n",
    "    for i in range(0, n):\n",
    "        state = n * i + (n - 1)\n",
    "        right_col.append(state)\n",
    "\n",
    "    return top_row, bottom_row, left_col, right_col"
   ]
  },
  {
   "cell_type": "code",
   "execution_count": 93,
   "metadata": {},
   "outputs": [
    {
     "name": "stdout",
     "output_type": "stream",
     "text": [
      "States along the top row are [0, 1, 2, 3]\n",
      "States along the bottom row are [12, 13, 14, 15]\n",
      "States along the left column are [0, 4, 8, 12]\n",
      "States along the right column are [3, 7, 11, 15]\n"
     ]
    }
   ],
   "source": [
    "top_row, bottom_row, left_col, right_col = identify_states(n)\n",
    "print(f\"States along the top row are {top_row}\")\n",
    "print(f\"States along the bottom row are {bottom_row}\")\n",
    "print(f\"States along the left column are {left_col}\")\n",
    "print(f\"States along the right column are {right_col}\")"
   ]
  },
  {
   "cell_type": "markdown",
   "metadata": {},
   "source": [
    "## `get_pairs`"
   ]
  },
  {
   "cell_type": "markdown",
   "metadata": {},
   "source": [
    "This function will return a list of the states and actions that lead to a particular state. It uses the lists created by the `identify_states` function, the co-ordinates of corner states, and the co-ordinates of inner states to determine the states and actions. "
   ]
  },
  {
   "cell_type": "code",
   "execution_count": 62,
   "metadata": {
    "jupyter": {
     "source_hidden": true
    }
   },
   "outputs": [],
   "source": [
    "def get_pairs(state, n, left_col, right_col, top_row, bottom_row):\n",
    "    list = []\n",
    "    \n",
    "    if state == 0: # top left corner\n",
    "        list.append((state + 1, 0)) # left action to state\n",
    "        list.append((state + n, 3)) # up action to state\n",
    "    elif state == (n - 1): #top right corner\n",
    "        list.append((state - 1, 2)) # right action to state\n",
    "        list.append((state + n, 3)) # up action to state\n",
    "    elif state == (n * (n - 1)): #bottom left corner\n",
    "        list.append((state + 1, 0)) # left action to state\n",
    "        list.append((state - n, 1)) # down action to state \n",
    "    elif state == ((n ** 2) - 1): #bottom right corner\n",
    "        list.append((state - 1, 2)) # right action to state\n",
    "        list.append((state - n, 1)) # down action to state \n",
    "    elif state in left_col:\n",
    "        list.append((state + 1, 0)) # left action to state\n",
    "        list.append((state - n, 1)) # down action to state \n",
    "        list.append((state + n, 3)) # up action to state\n",
    "    elif state in right_col:\n",
    "        list.append((state - n, 1)) # down action to state \n",
    "        list.append((state - 1, 2)) # right action to state\n",
    "        list.append((state + n, 3)) # up action to state\n",
    "    elif state in top_row:\n",
    "        list.append((state + 1, 0)) # left action to state\n",
    "        list.append((state - 1, 2)) # right action to state\n",
    "        list.append((state + n, 3)) # up action to state\n",
    "    elif state in bottom_row:\n",
    "        list.append((state + 1, 0)) # left action to state\n",
    "        list.append((state - n, 1)) # down action to state \n",
    "        list.append((state - 1, 2)) # right action to state\n",
    "    elif state in range(0, n*n):\n",
    "        list.append((state + 1, 0)) # left action to state\n",
    "        list.append((state - n, 1)) # down action to state \n",
    "        list.append((state - 1, 2)) # right action to state\n",
    "        list.append((state + n, 3)) # up action to state\n",
    "    else:\n",
    "        raise Exception(\"State does not exist in the environment.\")\n",
    "\n",
    "    return list"
   ]
  },
  {
   "cell_type": "code",
   "execution_count": 64,
   "metadata": {},
   "outputs": [
    {
     "name": "stdout",
     "output_type": "stream",
     "text": [
      "The state action pairs that lead to state 9 are [(10, 0), (5, 1), (8, 2), (13, 3)]\n",
      "The state action pairs that lead to state 4 are [(5, 0), (0, 1), (8, 3)]\n"
     ]
    }
   ],
   "source": [
    "state_nine = get_pairs(9, n, left_col, right_col, top_row, bottom_row)\n",
    "print(f\"The state action pairs that lead to state 9 are {state_nine}\")\n",
    "\n",
    "state_four = get_pairs(4, n, left_col, right_col, top_row, bottom_row)\n",
    "print(f\"The state action pairs that lead to state 4 are {state_four}\")"
   ]
  },
  {
   "cell_type": "markdown",
   "metadata": {},
   "source": [
    "# Main"
   ]
  },
  {
   "cell_type": "code",
   "execution_count": 66,
   "metadata": {
    "jupyter": {
     "source_hidden": true
    }
   },
   "outputs": [],
   "source": [
    "n = int(np.sqrt(states))\n",
    "top_row, bottom_row, left_col, right_col = identify_states(n)\n",
    "\n",
    "# make template matrix\n",
    "opinion = np.zeros((states, actions), dtype = \"f, f, f, f\")\n",
    "for state in range(states):\n",
    "    for action in range(actions):\n",
    "        opinion[state, action] = (0, 0, 1, 1/actions)\n",
    "\n",
    "#read file\n",
    "file = open('opinion.txt', 'r')\n",
    "content = file.read()\n",
    "file.close()\n",
    "lines = content.splitlines()\n",
    "\n",
    "# u is first line \n",
    "# b + d + u = 1, so based on user's uncertainty, we will split the remaining value (1 - u) between b and d based on their rating on belief/disbelief scale\n",
    "u = float(lines[0])\n",
    "\n",
    "for i in range(1, len(lines)):\n",
    "\n",
    "    a = lines[i].split(',')\n",
    "    state = int(a[0])\n",
    "\n",
    "    # user is unsure, split remaining value evenly between b and d\n",
    "    if (a[1] == ' +' or a[1]== ' -') and (int(a[2]) == 0):\n",
    "        b = round((1 - u) /2, 2)\n",
    "        d = round(b, 2)\n",
    "\n",
    "    # user has high belief, set 100% of remaining value to b\n",
    "    elif a[1] == ' +' and int(a[2]) == 2: \n",
    "        b = round(1 - u, 2)\n",
    "        d = round(1 - (u + b), 2)\n",
    "\n",
    "    # user has some belief, set b to 75% of remaining value \n",
    "    elif a[1] == ' +' and int(a[2]) == 1: \n",
    "        b = round(0.75 * (1 - u), 2)\n",
    "        d = round(1 - (u + b), 2)\n",
    "\n",
    "    # user has high disbelief, set d to 100% of remaining value \n",
    "    elif a[1] == ' -' and int(a[2]) == 2: \n",
    "        d = round(1 - u, 2)\n",
    "        b = round(1 - (u + d), 2)\n",
    "\n",
    "    # user has some disbelief, set d to 75% of remaining value \n",
    "    elif a[1] == ' -' and int(a[2]) == 1: \n",
    "        d = round(0.75 * (1 - u), 2)\n",
    "        b = round(1 - (u + d), 2)\n",
    "\n",
    "    states_actions = get_pairs(state, n, left_col, right_col, top_row, bottom_row)\n",
    "\n",
    "    for pair in states_actions:\n",
    "        curr_state = pair[0]\n",
    "        curr_action = pair[1]\n",
    "        opinion[curr_state, curr_action]= (b, d, u, 1/actions)\n",
    "\n",
    "opinion = np.save('opinion', opinion)"
   ]
  }
 ],
 "metadata": {
  "kernelspec": {
   "display_name": "Python 3 (ipykernel)",
   "language": "python",
   "name": "python3"
  },
  "language_info": {
   "codemirror_mode": {
    "name": "ipython",
    "version": 3
   },
   "file_extension": ".py",
   "mimetype": "text/x-python",
   "name": "python",
   "nbconvert_exporter": "python",
   "pygments_lexer": "ipython3",
   "version": "3.11.5"
  }
 },
 "nbformat": 4,
 "nbformat_minor": 4
}
