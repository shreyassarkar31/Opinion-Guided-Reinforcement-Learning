{
 "cells": [
  {
   "cell_type": "code",
   "execution_count": 1,
   "metadata": {},
   "outputs": [],
   "source": [
    "import gymnasium as gym\n",
    "import time"
   ]
  },
  {
   "cell_type": "code",
   "execution_count": 5,
   "metadata": {},
   "outputs": [],
   "source": [
    "def run(envName):\n",
    "    epStates = []\n",
    "    epActions = []\n",
    "    epRewards = []\n",
    "\n",
    "\n",
    "    env = gym.make(envName, render_mode = 'human')\n",
    "\n",
    "    state = env.reset()[0]\n",
    "    terminated = False\n",
    "    truncated = False\n",
    "\n",
    "    while (not terminated and not truncated):\n",
    "        time.sleep(1)\n",
    "        epStates.append(state)\n",
    "\n",
    "        action = env.action_space.sample()\n",
    "        epActions.append(action)\n",
    "\n",
    "        state, reward, terminated, truncated, __ = env.step(action)\n",
    "        epRewards.append(reward)\n",
    "\n",
    "    env.close()\n",
    "\n",
    "    print(\"EPISODE SUMMARY\")\n",
    "    print(f\"States: {epStates}\")\n",
    "    print(f\"Actions: {epActions}\")\n",
    "    print(f\"Rewards: {epRewards}\")\n",
    "    print(f\"Total timesteps: {len(epRewards)}\")"
   ]
  },
  {
   "cell_type": "code",
   "execution_count": null,
   "metadata": {},
   "outputs": [],
   "source": [
    "run('FrozenLake-v1')"
   ]
  }
 ],
 "metadata": {
  "kernelspec": {
   "display_name": "Python 3",
   "language": "python",
   "name": "python3"
  },
  "language_info": {
   "codemirror_mode": {
    "name": "ipython",
    "version": 3
   },
   "file_extension": ".py",
   "mimetype": "text/x-python",
   "name": "python",
   "nbconvert_exporter": "python",
   "pygments_lexer": "ipython3",
   "version": "3.8.2"
  }
 },
 "nbformat": 4,
 "nbformat_minor": 2
}
