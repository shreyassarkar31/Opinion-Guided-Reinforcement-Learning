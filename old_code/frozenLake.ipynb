{
 "cells": [
  {
   "cell_type": "code",
   "execution_count": 2,
   "metadata": {},
   "outputs": [],
   "source": [
    "import numpy as np\n",
    "import matplotlib.pyplot as plt\n",
    "import torch\n",
    "import torch.nn as nn\n",
    "import torch.optim as optim\n",
    "import torch.nn.functional as F\n",
    "import gymnasium as gym\n",
    "env = gym.make('FrozenLake-v1')\n",
    "num_states = env.observation_space.n\n",
    "num_actions = env.action_space.n"
   ]
  },
  {
   "cell_type": "code",
   "execution_count": 3,
   "metadata": {},
   "outputs": [],
   "source": [
    "class Policy_Grad(nn.Module):\n",
    "    def __init__(self, num_states, num_actions, hidden_1):\n",
    "        super().__init__()\n",
    "\n",
    "        self.fc1 = nn.Linear(num_states, hidden_1)\n",
    "        self.act1 = nn.ReLU()\n",
    "\n",
    "        self.out = nn.Linear(hidden_1, num_actions)\n",
    "        self.act_output = nn.Softmax(dim = 0)\n",
    "\n",
    "    def forward(self, x):\n",
    "        x = self.act1(self.fc1(x))\n",
    "        x = self.act_output(self.out(x))\n",
    "        return x\n",
    "    \n",
    "model = Policy_Grad(num_states, num_actions, num_states)"
   ]
  },
  {
   "cell_type": "code",
   "execution_count": 4,
   "metadata": {},
   "outputs": [],
   "source": [
    "def state_to_tensor(state):\n",
    "    state_tensor = torch.zeros(num_states, dtype = torch.float32)\n",
    "    state_tensor[state] = 1\n",
    "    return state_tensor"
   ]
  },
  {
   "cell_type": "code",
   "execution_count": 5,
   "metadata": {},
   "outputs": [],
   "source": [
    "def run(envName):\n",
    "    ep_states = []\n",
    "    ep_actions = []\n",
    "    ep_rewards = []\n",
    "\n",
    "\n",
    "    env = gym.make('FrozenLake-v1')\n",
    "\n",
    "    state = env.reset()[0]\n",
    "    terminated = False\n",
    "    truncated = False\n",
    "\n",
    "    while (not terminated and not truncated):\n",
    "        ep_states.append(state)\n",
    "\n",
    "        action = env.action_space.sample()\n",
    "        ep_actions.append(action)\n",
    "\n",
    "        state, reward, terminated, truncated, __ = env.step(action)\n",
    "        ep_rewards.append(reward)\n",
    "\n",
    "    env.close()\n",
    "\n",
    "    print(\"EPISODE SUMMARY\")\n",
    "    print(f\"States: {ep_states}\")\n",
    "    print(f\"Actions: {ep_actions}\")\n",
    "    print(f\"Rewards: {ep_rewards}\")\n",
    "    print(f\"Total timesteps: {len(ep_rewards)}\")"
   ]
  },
  {
   "cell_type": "code",
   "execution_count": 6,
   "metadata": {},
   "outputs": [],
   "source": [
    "def run_NN(MAX_EPISODES = 1):\n",
    "    env = gym.make('FrozenLake-v1', render_mode = 'human')\n",
    "    \n",
    "    total_reward = []\n",
    "    total_successes = 0\n",
    "\n",
    "    for episode in range(MAX_EPISODES):\n",
    "        state = env.reset()[0]\n",
    "        ep_states, ep_actions, ep_probs, ep_rewards, total_ep_rewards = [], [], [], [], 0\n",
    "        terminated, truncated = False, False\n",
    "\n",
    "        # gather trajectory\n",
    "        while not terminated and not truncated:\n",
    "            # encode state in tensor\n",
    "            state_tensor = state_to_tensor(state)\n",
    "\n",
    "            # add state to ep_states list\n",
    "            ep_states.append(state)\n",
    "\n",
    "            # pass state_tensor thru model to get action_probs\n",
    "            action_probs = model.forward(state_tensor)\n",
    "\n",
    "            #choose an action\n",
    "            action = np.random.choice(4, p = action_probs.detach().numpy())\n",
    "\n",
    "            # add action to ep_actions list\n",
    "            ep_actions.append(action)\n",
    "\n",
    "            # take step in environment\n",
    "            state, reward, terminated, truncated, __ = env.step(action)\n",
    "\n",
    "            # add reward to ep_rewards list\n",
    "            ep_rewards.append(reward)\n",
    "            total_ep_rewards += reward\n",
    "            if reward == 1: total_successes += 1\n",
    "\n",
    "    print(\"EPISODE SUMMARY\")\n",
    "    print(f\"States: {ep_states}\")\n",
    "    print(f\"Actions: {ep_actions}\")\n",
    "    print(f\"Rewards: {ep_rewards}\")\n",
    "    print(f\"Total timesteps: {len(ep_rewards)}\")\n"
   ]
  }
 ],
 "metadata": {
  "kernelspec": {
   "display_name": "Python 3",
   "language": "python",
   "name": "python3"
  },
  "language_info": {
   "codemirror_mode": {
    "name": "ipython",
    "version": 3
   },
   "file_extension": ".py",
   "mimetype": "text/x-python",
   "name": "python",
   "nbconvert_exporter": "python",
   "pygments_lexer": "ipython3",
   "version": "3.9.13"
  }
 },
 "nbformat": 4,
 "nbformat_minor": 2
}
