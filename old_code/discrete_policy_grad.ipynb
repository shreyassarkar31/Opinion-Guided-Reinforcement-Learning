{
 "cells": [
  {
   "cell_type": "markdown",
   "metadata": {},
   "source": [
    "# Discrete Policy Gradient"
   ]
  },
  {
   "cell_type": "markdown",
   "metadata": {},
   "source": [
    "https://towardsdatascience.com/policy-gradients-in-reinforcement-learning-explained-ecec7df94245\n",
    "\n",
    "https://towardsdatascience.com/cliff-walking-problem-with-the-discrete-policy-gradient-algorithm-59d1900d80d8"
   ]
  },
  {
   "cell_type": "code",
   "execution_count": 3,
   "metadata": {},
   "outputs": [],
   "source": [
    "import gymnasium as gym\n",
    "import numpy as np\n",
    "import matplotlib.pyplot as plt\n",
    "env = gym.make('FrozenLake-v1')\n",
    "states = env.observation_space.n\n",
    "actions = env.action_space.n"
   ]
  },
  {
   "cell_type": "markdown",
   "metadata": {},
   "source": [
    "## Functions"
   ]
  },
  {
   "cell_type": "code",
   "execution_count": 103,
   "metadata": {},
   "outputs": [],
   "source": [
    "def pi(state, theta):\n",
    "\n",
    "    logits = np.zeros(actions)\n",
    "\n",
    "    for action in range(actions):\n",
    "        logit = np.exp(theta[state, action])\n",
    "        logits[action] = logit\n",
    "        \n",
    "    return logits / np.sum(logits)"
   ]
  },
  {
   "cell_type": "code",
   "execution_count": 105,
   "metadata": {},
   "outputs": [],
   "source": [
    "def update_policy(ep_states, ep_actions, ep_probs, ep_returns, theta, alpha):\n",
    "    \n",
    "    for t in range(0,len(ep_states)):\n",
    "        state = ep_states[t]\n",
    "        action = ep_actions[t]\n",
    "        prob = ep_probs[t]\n",
    "        action_return = ep_returns[t]\n",
    "\n",
    "        phi = np.zeros([1, actions])\n",
    "        phi[0, action] = 1\n",
    " \n",
    "        score = phi - prob\n",
    "        theta[state, :] = theta[state, :] + alpha * action_return * score\n",
    "\n",
    "    return theta"
   ]
  },
  {
   "cell_type": "markdown",
   "metadata": {},
   "source": [
    "### FIX "
   ]
  },
  {
   "cell_type": "code",
   "execution_count": 104,
   "metadata": {},
   "outputs": [],
   "source": [
    "def calc_return(ep_rewards: list, gamma = 1): #TODO This does not work for gamma other than 1\n",
    "    \n",
    "    ep_returns = []\n",
    "    temp = 0\n",
    "\n",
    "    ep_rewards.reverse()\n",
    "\n",
    "    for i in range (0, len(ep_rewards)):\n",
    "        temp += ep_rewards[i] * gamma ** (i)\n",
    "        ep_returns.append(temp)\n",
    "\n",
    "    ep_returns.reverse()\n",
    "\n",
    "    return ep_returns"
   ]
  },
  {
   "cell_type": "code",
   "execution_count": 100,
   "metadata": {},
   "outputs": [
    {
     "name": "stdout",
     "output_type": "stream",
     "text": [
      "10 0.9 ** 0\n",
      "0 0.9 ** 1\n",
      "3 0.9 ** 2\n",
      "\n",
      "10 0.9 ** 0\n",
      "0 0.9 ** 1\n",
      "\n",
      "10 0.9 ** 0\n",
      "\n"
     ]
    }
   ],
   "source": [
    "ep_rewards = [3, 0, 10]\n",
    "gamma = 0.9\n",
    "length = len(ep_rewards)\n",
    "#ep_rewards.reverse()\n",
    "\n",
    "ep_returns = []\n",
    "for i in range((length - 1), -1, -1):\n",
    "    temp = 0\n",
    "    for j in range(0, i+1):\n",
    "        print(f\"{ep_rewards[(length - 1) - j]} {gamma} ** {j}\")\n",
    "        #temp += ep_rewards[i] * gamma ** j\n",
    "        #print(temp)\n",
    "        #ep_returns.append(ep_rewards[i] * gamma ** j)\n",
    "    \n",
    "    print()\n",
    "\n",
    "#print(ep_returns)"
   ]
  },
  {
   "cell_type": "markdown",
   "metadata": {},
   "source": [
    "## Runner"
   ]
  },
  {
   "cell_type": "code",
   "execution_count": 106,
   "metadata": {},
   "outputs": [],
   "source": [
    "def run(MAX_EPISODES = 1000, is_training = False, isSlippery = False, alpha = 0.9, gamma = 1):\n",
    "    env = gym.make('FrozenLake-v1', is_slippery = isSlippery)\n",
    "    \n",
    "    total_reward = []\n",
    "    total_successes = 0\n",
    "\n",
    "    if is_training == False:\n",
    "        theta = np.zeros((states, actions))\n",
    "    else:\n",
    "        theta = np.loadtxt('theta', delimiter=\",\")\n",
    "\n",
    "\n",
    "    for episode in range(MAX_EPISODES):\n",
    "        state = env.reset()[0]\n",
    "        ep_states, ep_actions, ep_probs, ep_rewards, total_ep_rewards = [], [], [], [], 0\n",
    "        terminated, truncated = False, False\n",
    "\n",
    "        # gather trajectory\n",
    "        while not terminated and not truncated:\n",
    "            ep_states.append(state)\n",
    "            action_probs = pi(state, theta)\n",
    "            ep_probs.append(action_probs)\n",
    "            action = np.random.choice(np.array([0, 1, 2, 3]), p = action_probs)\n",
    "            ep_actions.append(action)\n",
    "            state, reward, terminated, truncated, __ = env.step(action)\n",
    "            ep_rewards.append(reward)\n",
    "            total_ep_rewards += reward\n",
    "            if reward == 1: total_successes += 1\n",
    "\n",
    "\n",
    "        # calculate episode return & add total episode reward to totalReward\n",
    "        ep_returns = calc_return(ep_rewards, 1)\n",
    "        total_reward.append(sum(ep_rewards))\n",
    "            \n",
    "        # update policy\n",
    "        update_policy(ep_states, ep_actions, ep_probs, ep_returns, theta, alpha)\n",
    "\n",
    "    np.savetxt('theta', theta, delimiter= ',')\n",
    "    env.close()\n",
    "    \n",
    "    # evaluate model\n",
    "\n",
    "    # success rate\n",
    "    success_rate = (total_successes/MAX_EPISODES)*100\n",
    "    print(f\"Success rate after {MAX_EPISODES} episodes = {success_rate}%\")\n",
    "\n",
    "    # graph of cumulative reward\n",
    "    cumulative_reward = np.cumsum(total_reward)\n",
    "    plt.plot(cumulative_reward)\n",
    "    plt.title('Cumulative reward per episode')\n",
    "    plt.xlabel('Episode')\n",
    "    plt.ylabel('Cumulative Reward')\n",
    "    plt.show()\n",
    "        "
   ]
  },
  {
   "cell_type": "code",
   "execution_count": 109,
   "metadata": {},
   "outputs": [
    {
     "name": "stdout",
     "output_type": "stream",
     "text": [
      "Success rate after 100 episodes = 42.0%\n"
     ]
    },
    {
     "data": {
      "image/png": "[encoded data removed]",
      "text/plain": [
       "<Figure size 640x480 with 1 Axes>"
      ]
     },
     "metadata": {},
     "output_type": "display_data"
    }
   ],
   "source": [
    "run(MAX_EPISODES = 100, isSlippery = False)"
   ]
  }
 ],
 "metadata": {
  "kernelspec": {
   "display_name": "Python 3",
   "language": "python",
   "name": "python3"
  },
  "language_info": {
   "codemirror_mode": {
    "name": "ipython",
    "version": 3
   },
   "file_extension": ".py",
   "mimetype": "text/x-python",
   "name": "python",
   "nbconvert_exporter": "python",
   "pygments_lexer": "ipython3",
   "version": "3.8.2"
  }
 },
 "nbformat": 4,
 "nbformat_minor": 2
}
