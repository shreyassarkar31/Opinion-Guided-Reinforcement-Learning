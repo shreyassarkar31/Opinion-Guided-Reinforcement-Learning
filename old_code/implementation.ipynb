{
 "cells": [
  {
   "cell_type": "code",
   "execution_count": 7,
   "metadata": {},
   "outputs": [],
   "source": [
    "import gymnasium as gym\n",
    "import numpy as np\n",
    "import matplotlib.pyplot as plt\n",
    "from sklearn.preprocessing import normalize\n",
    "\n",
    "env = gym.make('FrozenLake-v1', map_name = \"8x8\")\n",
    "states = env.observation_space.n\n",
    "actions = env.action_space.n"
   ]
  },
  {
   "cell_type": "markdown",
   "metadata": {},
   "source": [
    "# Discrete Policy Grad Functions"
   ]
  },
  {
   "cell_type": "code",
   "execution_count": 11,
   "metadata": {},
   "outputs": [],
   "source": [
    "def pi(state, theta):\n",
    "\n",
    "    logits = np.zeros(actions)\n",
    "\n",
    "    for action in range(actions):\n",
    "        logit = np.exp(theta[state, action])\n",
    "        logits[action] = logit\n",
    "        \n",
    "    return logits / np.sum(logits)"
   ]
  },
  {
   "cell_type": "code",
   "execution_count": 12,
   "metadata": {},
   "outputs": [],
   "source": [
    "def update_policy(ep_states, ep_actions, ep_probs, ep_returns, theta, alpha):\n",
    "    \n",
    "    for t in range(0,len(ep_states)):\n",
    "        state = ep_states[t]\n",
    "        action = ep_actions[t]\n",
    "        prob = ep_probs[t]\n",
    "        action_return = ep_returns[t]\n",
    "\n",
    "        phi = np.zeros([1, actions])\n",
    "        phi[0, action] = 1\n",
    " \n",
    "        score = phi - prob\n",
    "        theta[state, :] = theta[state, :] + alpha * action_return * score\n",
    "\n",
    "    return theta"
   ]
  },
  {
   "cell_type": "code",
   "execution_count": 13,
   "metadata": {},
   "outputs": [],
   "source": [
    "def compute_cum_rewards(gamma: float, t: int, rewards: np.array) -> float:\n",
    "    \"\"\"Cumulative reward function\"\"\"\n",
    "    cum_reward = 0\n",
    "   # cum_reward = rewards[-1] #TEST!!!\n",
    "    for tau in range(t, len(rewards)):\n",
    "        cum_reward += gamma ** (tau - t) * rewards[tau]\n",
    "    return cum_reward"
   ]
  },
  {
   "cell_type": "code",
   "execution_count": 14,
   "metadata": {},
   "outputs": [],
   "source": [
    "def calc_return(rewards, gamma):\n",
    "    # https://stackoverflow.com/questions/65233426/discount-reward-in-reinforce-deep-reinforcement-learning-algorithm\n",
    "    ep_rewards = np.asarray(rewards)\n",
    "    t_steps = np.arange(ep_rewards.size)\n",
    "    ep_returns = ep_rewards * gamma**t_steps\n",
    "    ep_returns = ep_returns[::-1].cumsum()[::-1] / gamma**t_steps\n",
    "    return ep_returns.tolist()"
   ]
  },
  {
   "cell_type": "code",
   "execution_count": 10,
   "metadata": {},
   "outputs": [],
   "source": [
    "def discrete_policy_grad(MAX_EPISODES = 1000, human_advised = False, isSlippery = False, alpha = 0.9, gamma = 1):\n",
    "    env = gym.make('FrozenLake-v1', map_name = \"8x8\", is_slippery = isSlippery)\n",
    "    \n",
    "    total_reward = []\n",
    "    total_successes = 0\n",
    "\n",
    "    if human_advised == False:\n",
    "        theta = np.zeros((states, actions))\n",
    "    else:\n",
    "        theta = np.loadtxt('human_advised_policy', delimiter=\",\")\n",
    "\n",
    "\n",
    "    for episode in range(MAX_EPISODES):\n",
    "        state = env.reset()[0]\n",
    "        ep_states, ep_actions, ep_probs, ep_rewards, total_ep_rewards = [], [], [], [], 0\n",
    "        terminated, truncated = False, False\n",
    "\n",
    "        # gather trajectory\n",
    "        while not terminated and not truncated:\n",
    "            ep_states.append(state)\n",
    "            action_probs = pi(state, theta)\n",
    "            ep_probs.append(action_probs)\n",
    "            action = np.random.choice(np.array([0, 1, 2, 3]), p = action_probs)\n",
    "            ep_actions.append(action)\n",
    "            state, reward, terminated, truncated, __ = env.step(action)\n",
    "            ep_rewards.append(reward)\n",
    "            total_ep_rewards += reward\n",
    "            if reward == 1: total_successes += 1\n",
    "\n",
    "\n",
    "        # calculate episode return & add total episode reward to totalReward\n",
    "        ep_returns = calc_return(ep_rewards, gamma)\n",
    "        total_reward.append(sum(ep_rewards))\n",
    "            \n",
    "        # update policy\n",
    "        update_policy(ep_states, ep_actions, ep_probs, ep_returns, theta, alpha)\n",
    "\n",
    "    np.savetxt('theta', theta, delimiter= ',')\n",
    "    env.close()\n",
    "    \n",
    "    # evaluate model\n",
    "\n",
    "    # success rate\n",
    "    success_rate = (total_successes/MAX_EPISODES)*100\n",
    "    print(f\"Success rate after {MAX_EPISODES} episodes = {success_rate}%\")\n",
    "\n",
    "    # graph of cumulative reward\n",
    "    cumulative_reward = np.cumsum(total_reward)\n",
    "    plt.plot(cumulative_reward)\n",
    "    plt.title('Cumulative reward per episode')\n",
    "    plt.xlabel('Episode')\n",
    "    plt.ylabel('Cumulative Reward')\n",
    "    plt.show()\n",
    "        "
   ]
  },
  {
   "cell_type": "markdown",
   "metadata": {},
   "source": [
    "# Human Advised RL Functions"
   ]
  },
  {
   "cell_type": "code",
   "execution_count": 2,
   "metadata": {},
   "outputs": [],
   "source": [
    "def theta_to_prob(theta):\n",
    "    \"\"\"transforms numerical matrix to probsability matrix\"\"\"\n",
    "    rows = theta.shape[0]\n",
    "    cols = theta.shape[1]\n",
    "    probs = np.zeros((rows, cols))\n",
    "    logits = np.zeros(cols)\n",
    "\n",
    "    for state in range(rows):\n",
    "        for action in range(cols):\n",
    "            logit = np.exp(theta[state, action])\n",
    "            logits[action] = logit\n",
    "        probs[state] = logits / np.sum(logits)\n",
    "    return probs"
   ]
  },
  {
   "cell_type": "code",
   "execution_count": 3,
   "metadata": {},
   "outputs": [],
   "source": [
    "def policy_to_certanity(theta):\n",
    "    \"\"\"transforms policy matrix to certainty matrix\"\"\"\n",
    "    probs = theta_to_prob(theta)\n",
    "    rows = probs.shape[0]\n",
    "    cols = probs.shape[1]\n",
    "    certs = np.zeros((rows, cols), dtype = \"f, f, f, f\")\n",
    "    \n",
    "    for state in range(rows):\n",
    "        for action in range(cols):\n",
    "            p = probs[state, action]\n",
    "            certs[state, action] = (p, 1-p, 0, p)\n",
    "    return(certs)"
   ]
  },
  {
   "cell_type": "code",
   "execution_count": 4,
   "metadata": {},
   "outputs": [],
   "source": [
    "def beliefConstraintFusion(matrix1, matrix2):\n",
    "    rows = matrix1.shape[0]\n",
    "    cols = matrix2.shape[1]\n",
    "    fused = np.zeros((rows, cols), dtype = \"f, f, f, f\")\n",
    "    for state in range(rows):\n",
    "        for action in range(cols):\n",
    "            b1 = (matrix1[state, action])[0]\n",
    "            d1 = (matrix1[state, action])[1]\n",
    "            u1 =  (matrix1[state, action])[2]\n",
    "            a1 = (matrix1[state, action])[3]\n",
    "\n",
    "            b2 = (matrix2[state, action])[0]\n",
    "            d2 = (matrix2[state, action])[1]\n",
    "            u2 =  (matrix2[state, action])[2]\n",
    "            a2 = (matrix2[state, action])[3]\n",
    "\n",
    "            harmony = b1*b2 + b1*u2 + b2*u1\n",
    "            conflict = b1*d2 + b2*d1\n",
    "            b = harmony / (1 - conflict)\n",
    "            u = u1 * u2 / (1 - conflict)\n",
    "            a = (a1 * (1 - u1) + a2 * (1 - u2)) / (2 - u1 - u2)\n",
    "            d = 1 - (b + u)\n",
    "\n",
    "            (fused[state, action])[0] = b\n",
    "            (fused[state, action])[1] = d\n",
    "            (fused[state, action])[2] = u\n",
    "            (fused[state, action])[3] = a\n",
    "    return fused"
   ]
  },
  {
   "cell_type": "code",
   "execution_count": 5,
   "metadata": {},
   "outputs": [],
   "source": [
    "def cert_to_policy(certs):\n",
    "    rows = certs.shape[0]\n",
    "    cols = certs.shape[1]\n",
    "    probs = np.zeros((rows, cols))\n",
    "    for state in range(rows):\n",
    "        for action in range(cols):\n",
    "            b = (certs[state, action])[0]\n",
    "            u = (certs[state, action])[2]\n",
    "            a = (certs[state, action])[3]\n",
    "            probs[state, action] = b + a * u\n",
    "\n",
    "    # normalize probability matrix so each row sums to 1\n",
    "    probs = normalize(probs, axis=1, norm='l1')\n",
    "\n",
    "    theta = np.zeros((rows, cols))\n",
    "\n",
    "    for state in range(rows):\n",
    "        mu = probs[state]\n",
    "        log_sum = 0 \n",
    "        for action in range(cols):\n",
    "            log_sum += np.log(mu[action])\n",
    "        c = (-1 / cols) * log_sum\n",
    "\n",
    "        for action in range(cols):\n",
    "            theta[state, action] = np.log(mu[action]) + c\n",
    "\n",
    "    return theta"
   ]
  },
  {
   "cell_type": "code",
   "execution_count": 3,
   "metadata": {},
   "outputs": [],
   "source": [
    "def human_advice():\n",
    "    # create initialized theta matrix of zeros\n",
    "    policy_num = np.zeros((states, actions))\n",
    "\n",
    "    # 1a/2b convert policy from agent into a matrix of certainties\n",
    "    policy_cert = policy_to_certanity(policy_num)\n",
    "\n",
    "    # 1b capture human opinion \n",
    "    opinion = np.load('opinion.npy')\n",
    "\n",
    "    # 2b fusion\n",
    "    fused = beliefConstraintFusion(policy_cert, opinion)\n",
    "\n",
    "    # 3 convert certainties to policy for agent \n",
    "    theta = cert_to_policy(fused)\n",
    "\n",
    "    np.savetxt('human_advised_policy', theta, delimiter= ',')"
   ]
  },
  {
   "cell_type": "markdown",
   "metadata": {},
   "source": [
    "# Main Code"
   ]
  },
  {
   "cell_type": "code",
   "execution_count": 8,
   "metadata": {},
   "outputs": [],
   "source": [
    "opinion = np.zeros((states, actions), dtype = \"f, f, f, f\")\n",
    "for state in range(states):\n",
    "    for action in range(actions):\n",
    "        opinion[state, action] = (0, 0, 1, 1/actions)\n",
    "\n",
    "opinion[1, 1] = (0.8, 0.0, 0.2, 1/actions)\n",
    "\n",
    "opinion = np.save('opinion', opinion)\n",
    "\n",
    "human_advice()"
   ]
  },
  {
   "cell_type": "code",
   "execution_count": 15,
   "metadata": {},
   "outputs": [
    {
     "name": "stdout",
     "output_type": "stream",
     "text": [
      "Success rate after 1000 episodes = 4.2%\n"
     ]
    },
    {
     "data": {
      "image/png": "[encoded data removed]",
      "text/plain": [
       "<Figure size 640x480 with 1 Axes>"
      ]
     },
     "metadata": {},
     "output_type": "display_data"
    }
   ],
   "source": [
    "MAX_EPISODES = 100; human_advised = False; isSlippery = False; alpha = 0.9; gamma = 1\n",
    "discrete_policy_grad()"
   ]
  }
 ],
 "metadata": {
  "kernelspec": {
   "display_name": "Python 3",
   "language": "python",
   "name": "python3"
  },
  "language_info": {
   "codemirror_mode": {
    "name": "ipython",
    "version": 3
   },
   "file_extension": ".py",
   "mimetype": "text/x-python",
   "name": "python",
   "nbconvert_exporter": "python",
   "pygments_lexer": "ipython3",
   "version": "3.9.13"
  }
 },
 "nbformat": 4,
 "nbformat_minor": 2
}
