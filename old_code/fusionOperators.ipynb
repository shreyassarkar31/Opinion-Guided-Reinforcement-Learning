{
 "cells": [
  {
   "cell_type": "markdown",
   "metadata": {},
   "source": [
    "# Fusion Operators"
   ]
  },
  {
   "cell_type": "markdown",
   "metadata": {},
   "source": [
    "## Belief Constraint Fusion"
   ]
  },
  {
   "cell_type": "code",
   "execution_count": 1,
   "metadata": {},
   "outputs": [],
   "source": [
    "def BCF(opinion1, opinion2):    \n",
    "    fusedOp = []\n",
    "    b1 = opinion1[0]\n",
    "    d1 = opinion1[1]\n",
    "    u1 = opinion1[2]\n",
    "    a1 = opinion1[3]\n",
    "\n",
    "    b2 = opinion2[0]\n",
    "    d2 = opinion2[1]\n",
    "    u2 = opinion2[2]\n",
    "    a2 = opinion2[3]\n",
    "\n",
    "    harmony = b1*b2 + b1*u2 + b2*u1\n",
    "    conflict = b1*d2 + b2*d1\n",
    "    b = harmony / (1 - conflict)\n",
    "    u = u1 * u2 / (1 - conflict)\n",
    "    a = (a1 * (1 - u1) + a2 * (1 - u2)) / (2 - u1 - u2)\n",
    "    d = 1 - (b + u)\n",
    "    #d = 1 - b - u - a\n",
    "\n",
    "    fusedOp.append(round(b, 2))\n",
    "    fusedOp.append(round(d, 2))\n",
    "    fusedOp.append(round(u, 2))\n",
    "    fusedOp.append(round(a, 2))\n",
    "\n",
    "    return fusedOp"
   ]
  },
  {
   "cell_type": "code",
   "execution_count": 11,
   "metadata": {},
   "outputs": [
    {
     "name": "stdout",
     "output_type": "stream",
     "text": [
      "Fused opinion [0.03, 0.97, 0.0, 0.25]\n",
      "Fused probability 0.03\n"
     ]
    }
   ],
   "source": [
    "humanOp = [0, 0.9, 0.1, 0.25]\n",
    "agentOp = [0.25, 0.25, 0.0, 0.25]\n",
    "fusedOp = BCF(humanOp, agentOp)\n",
    "prob = fusedOp[0] + fusedOp[2] * fusedOp[3]\n",
    "\n",
    "print(f\"Fused opinion {fusedOp}\")\n",
    "print(f\"Fused probability {prob}\")"
   ]
  }
 ],
 "metadata": {
  "kernelspec": {
   "display_name": "Python 3",
   "language": "python",
   "name": "python3"
  },
  "language_info": {
   "codemirror_mode": {
    "name": "ipython",
    "version": 3
   },
   "file_extension": ".py",
   "mimetype": "text/x-python",
   "name": "python",
   "nbconvert_exporter": "python",
   "pygments_lexer": "ipython3",
   "version": "3.9.13"
  }
 },
 "nbformat": 4,
 "nbformat_minor": 2
}
