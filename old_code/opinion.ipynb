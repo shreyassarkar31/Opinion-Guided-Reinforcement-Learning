{
 "cells": [
  {
   "cell_type": "code",
   "execution_count": 1,
   "metadata": {},
   "outputs": [],
   "source": [
    "import numpy as np\n",
    "import gymnasium as gym\n",
    "\n",
    "env = gym.make('FrozenLake-v1', map_name = '8x8')\n",
    "states = env.observation_space.n\n",
    "actions = env.action_space.n"
   ]
  },
  {
   "cell_type": "code",
   "execution_count": 15,
   "metadata": {},
   "outputs": [],
   "source": [
    "positive = {\n",
    "    \"high b high c\" : (0.9, 0, 0.1, 1/actions),\n",
    "    \"high b some c\" : (0.7, 0, 0.3, 1/actions),\n",
    "    \"some b high c\" : (0.7, 0.2, 0.1, 1/actions),\n",
    "    \"some b some c\" : (0.5, 0.2, 0.3, 1/actions),\n",
    "}\n",
    "\n",
    "negative = {\n",
    "    \"high d high c\" : (0, 0.9, 0.1, 1/actions),\n",
    "    \"high d some c\" : (0, 0.7, 0.3, 1/actions),\n",
    "    \"some d high c\" : (0.2, 0.7, 0.1, 1/actions),\n",
    "    \"some d some c\" : (0.2, 0.5, 0.3, 1/actions),\n",
    "}"
   ]
  },
  {
   "cell_type": "code",
   "execution_count": null,
   "metadata": {},
   "outputs": [],
   "source": [
    "opinion = np.zeros((states, actions), dtype = \"f, f, f, f\")\n",
    "for state in range(states):\n",
    "    for action in range(actions):\n",
    "        opinion[state, action] = (0, 0, 1, 1/actions)\n",
    "\n",
    "#TODO - create a better way to input these\n",
    "# decrease prob of going to holes\n",
    "opinion[20, 0] = (0, 0.7, 0.3, 1/actions)\n",
    "opinion[30, 0] = (0, 0.7, 0.3, 1/actions) \n",
    "opinion[36, 0] = (0, 0.7, 0.3, 1/actions)           \n",
    "opinion[43, 0] = (0, 0.7, 0.3, 1/actions)\n",
    "opinion[47, 0] = (0, 0.7, 0.3, 1/actions)      \n",
    "opinion[50, 0] = (0, 0.7, 0.3, 1/actions)\n",
    "opinion[55, 0] = (0, 0.7, 0.3, 1/actions)   \n",
    "opinion[60, 0] = (0, 0.7, 0.3, 1/actions)      \n",
    "        \n",
    "opinion[11, 1] = (0, 0.7, 0.3, 1/actions)\n",
    "opinion[21, 1] = (0, 0.7, 0.3, 1/actions)\n",
    "opinion[27, 1] = (0, 0.7, 0.3, 1/actions)\n",
    "opinion[33, 1] = (0, 0.7, 0.3, 1/actions)\n",
    "opinion[34, 1] = (0, 0.7, 0.3, 1/actions)\n",
    "opinion[38, 1] = (0, 0.7, 0.3, 1/actions)\n",
    "opinion[44, 1] = (0, 0.7, 0.3, 1/actions)\n",
    "opinion[51, 1] = (0, 0.7, 0.3, 1/actions)\n",
    "\n",
    "opinion[18, 2] = (0, 0.7, 0.3, 1/actions)\n",
    "opinion[28, 2] = (0, 0.7, 0.3, 1/actions)\n",
    "opinion[34, 2] = (0, 0.7, 0.3, 1/actions)\n",
    "opinion[40, 2] = (0, 0.7, 0.3, 1/actions)\n",
    "opinion[48, 2] = (0, 0.7, 0.3, 1/actions)\n",
    "opinion[51, 2] = (0, 0.7, 0.3, 1/actions)\n",
    "opinion[58, 2] = (0, 0.7, 0.3, 1/actions)\n",
    "\n",
    "opinion[27, 3] = (0, 0.7, 0.3, 1/actions)   \n",
    "opinion[37, 3] = (0, 0.7, 0.3, 1/actions) \n",
    "opinion[43, 3] = (0, 0.7, 0.3, 1/actions)   \n",
    "opinion[50, 3] = (0, 0.7, 0.3, 1/actions) \n",
    "opinion[57, 3] = (0, 0.7, 0.3, 1/actions) \n",
    "opinion[60, 3] = (0, 0.7, 0.3, 1/actions)    \n",
    "opinion[62, 3] = (0, 0.7, 0.3, 1/actions)        \n",
    "\n",
    "opinion = np.save('opinion', opinion)"
   ]
  }
 ],
 "metadata": {
  "kernelspec": {
   "display_name": "base",
   "language": "python",
   "name": "python3"
  },
  "language_info": {
   "codemirror_mode": {
    "name": "ipython",
    "version": 3
   },
   "file_extension": ".py",
   "mimetype": "text/x-python",
   "name": "python",
   "nbconvert_exporter": "python",
   "pygments_lexer": "ipython3",
   "version": "3.11.5"
  }
 },
 "nbformat": 4,
 "nbformat_minor": 2
}
