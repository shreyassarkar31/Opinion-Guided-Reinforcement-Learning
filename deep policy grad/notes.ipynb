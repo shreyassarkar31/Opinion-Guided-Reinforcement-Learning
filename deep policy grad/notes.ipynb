{
 "cells": [
  {
   "cell_type": "code",
   "execution_count": 55,
   "metadata": {},
   "outputs": [],
   "source": [
    "import numpy as np\n",
    "import matplotlib.pyplot as plt\n",
    "import torch\n",
    "import torch.nn as nn\n",
    "import torch.optim as optim\n",
    "import torch.nn.functional as F\n",
    "import gymnasium as gym\n",
    "from sklearn.preprocessing import normalize\n",
    "\n",
    "\n",
    "map_size = '8x8'; slippery = False; training_lr = 0.9; advice_lr = 0.9; gamma = 1\n",
    "env = gym.make('FrozenLake-v1', map_name = map_size, is_slippery = slippery)\n",
    "num_states = env.observation_space.n\n",
    "num_actions = env.action_space.n"
   ]
  },
  {
   "cell_type": "code",
   "execution_count": 56,
   "metadata": {},
   "outputs": [],
   "source": [
    "class Policy_Grad(nn.Module):\n",
    "    def __init__(self, num_states, num_actions, hidden_1):\n",
    "        super().__init__()\n",
    "\n",
    "        self.fc1 = nn.Linear(num_states, hidden_1)\n",
    "        self.act1 = nn.ReLU()\n",
    "\n",
    "        self.out = nn.Linear(hidden_1, num_actions)\n",
    "        self.act_output = nn.Softmax(dim = 0)\n",
    "\n",
    "    def forward(self, x):\n",
    "        x = self.act1(self.fc1(x))\n",
    "        x = self.act_output(self.out(x))\n",
    "        return x"
   ]
  },
  {
   "cell_type": "code",
   "execution_count": 58,
   "metadata": {},
   "outputs": [],
   "source": [
    "def state_to_tensor(state):\n",
    "    state_tensor = torch.zeros(num_states, dtype = torch.float32)\n",
    "    state_tensor[state] = 1\n",
    "    return state_tensor"
   ]
  },
  {
   "cell_type": "code",
   "execution_count": 59,
   "metadata": {},
   "outputs": [],
   "source": [
    "model = Policy_Grad(num_states, num_actions, num_states)"
   ]
  },
  {
   "cell_type": "code",
   "execution_count": 60,
   "metadata": {},
   "outputs": [
    {
     "name": "stdout",
     "output_type": "stream",
     "text": [
      "tensor([0.2550, 0.2328, 0.2634, 0.2488], grad_fn=<SoftmaxBackward0>)\n"
     ]
    }
   ],
   "source": [
    "state = 14\n",
    "state_tensor = state_to_tensor(state)\n",
    "untrained = model.forward(state_tensor)\n",
    "print(untrained)"
   ]
  },
  {
   "cell_type": "code",
   "execution_count": 68,
   "metadata": {},
   "outputs": [],
   "source": [
    "state = 14\n",
    "state_tensor = state_to_tensor(state)\n",
    "action_probs = model.forward(state_tensor)\n",
    "fused_probs = torch.tensor([0.17, 0.17, 0.49, 0.17], dtype = torch.float32) \n",
    "loss_fn = nn.MSELoss()\n",
    "loss = loss_fn(action_probs, fused_probs)\n",
    "optimizer = optim.Adam(model.parameters(), advice_lr)\n",
    "optimizer.zero_grad()\n",
    "loss.backward()\n",
    "optimizer.step()"
   ]
  },
  {
   "cell_type": "code",
   "execution_count": 70,
   "metadata": {},
   "outputs": [
    {
     "name": "stdout",
     "output_type": "stream",
     "text": [
      "tensor([1.4569e-24, 1.5365e-24, 1.0000e+00, 8.2851e-25],\n",
      "       grad_fn=<SoftmaxBackward0>)\n"
     ]
    }
   ],
   "source": [
    "state = 14\n",
    "state_tensor = state_to_tensor(state)\n",
    "trained = model.forward(state_tensor)\n",
    "print(trained)"
   ]
  },
  {
   "cell_type": "code",
   "execution_count": 64,
   "metadata": {},
   "outputs": [
    {
     "name": "stdout",
     "output_type": "stream",
     "text": [
      "tensor([-0.2550, -0.2328,  0.7366, -0.2488], grad_fn=<SubBackward0>)\n"
     ]
    }
   ],
   "source": [
    "print(trained - untrained)"
   ]
  }
 ],
 "metadata": {
  "kernelspec": {
   "display_name": "base",
   "language": "python",
   "name": "python3"
  },
  "language_info": {
   "codemirror_mode": {
    "name": "ipython",
    "version": 3
   },
   "file_extension": ".py",
   "mimetype": "text/x-python",
   "name": "python",
   "nbconvert_exporter": "python",
   "pygments_lexer": "ipython3",
   "version": "3.9.13"
  }
 },
 "nbformat": 4,
 "nbformat_minor": 2
}
