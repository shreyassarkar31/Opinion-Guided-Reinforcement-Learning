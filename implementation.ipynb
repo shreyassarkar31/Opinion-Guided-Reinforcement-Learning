{
 "cells": [
  {
   "cell_type": "code",
   "execution_count": 1,
   "metadata": {},
   "outputs": [],
   "source": [
    "import numpy as np\n",
    "\n",
    "states = 3\n",
    "actions = 2"
   ]
  },
  {
   "cell_type": "markdown",
   "metadata": {},
   "source": [
    "<div>\n",
    "<img src=\"figure.png\" width=\"500\"/>\n",
    "</div>"
   ]
  },
  {
   "cell_type": "markdown",
   "metadata": {},
   "source": [
    "## 1 a"
   ]
  },
  {
   "cell_type": "code",
   "execution_count": 2,
   "metadata": {},
   "outputs": [
    {
     "name": "stdout",
     "output_type": "stream",
     "text": [
      "[[0.5 0.5]\n",
      " [0.5 0.5]\n",
      " [0.5 0.5]]\n"
     ]
    }
   ],
   "source": [
    "policy = np.full((states, actions), 0.5)\n",
    "print(policy)"
   ]
  },
  {
   "cell_type": "markdown",
   "metadata": {},
   "source": [
    "## 1b"
   ]
  },
  {
   "cell_type": "code",
   "execution_count": 3,
   "metadata": {},
   "outputs": [
    {
     "name": "stdout",
     "output_type": "stream",
     "text": [
      "[[(0., 0., 1., 0.5) (0., 0., 1., 0.5)]\n",
      " [(0., 0., 1., 0.5) (0., 0., 1., 0.5)]\n",
      " [(0., 0., 1., 0.5) (0., 0., 1., 0.5)]]\n"
     ]
    }
   ],
   "source": [
    "value = np.empty((), dtype=object)\n",
    "value[()] = (0, 0, 1, 1/actions)\n",
    "opinion = np.full((states, actions), value, dtype = \"f, f, f, f\")\n",
    "print(opinion)"
   ]
  },
  {
   "cell_type": "markdown",
   "metadata": {},
   "source": [
    "## 2a"
   ]
  },
  {
   "cell_type": "code",
   "execution_count": 4,
   "metadata": {},
   "outputs": [],
   "source": [
    "def prob_to_certanity(prob_matrix):\n",
    "    rows = prob_matrix.shape[0]\n",
    "    cols = prob_matrix.shape[1]\n",
    "    cert_matrix = np.zeros((rows, cols), dtype = \"f, f, f, f\")\n",
    "    for state in range(rows):\n",
    "        for action in range(cols):\n",
    "            p = prob_matrix[state, action]\n",
    "            cert_matrix[state, action] = (p, 1-p, 0, p)\n",
    "    return(cert_matrix)"
   ]
  },
  {
   "cell_type": "code",
   "execution_count": 5,
   "metadata": {},
   "outputs": [
    {
     "name": "stdout",
     "output_type": "stream",
     "text": [
      "[[(0.5, 0.5, 0., 0.5) (0.5, 0.5, 0., 0.5)]\n",
      " [(0.5, 0.5, 0., 0.5) (0.5, 0.5, 0., 0.5)]\n",
      " [(0.5, 0.5, 0., 0.5) (0.5, 0.5, 0., 0.5)]]\n"
     ]
    }
   ],
   "source": [
    "policy_cert = prob_to_certanity(policy)\n",
    "print(policy_cert)"
   ]
  },
  {
   "cell_type": "markdown",
   "metadata": {},
   "source": [
    "## 2b"
   ]
  },
  {
   "cell_type": "code",
   "execution_count": 6,
   "metadata": {},
   "outputs": [],
   "source": [
    "def beliefConstraintFusion(matrix1, matrix2):\n",
    "    rows = matrix1.shape[0]\n",
    "    cols = matrix2.shape[1]\n",
    "    fused = np.zeros((rows, cols), dtype = \"f, f, f, f\")\n",
    "    for state in range(rows):\n",
    "        for action in range(cols):\n",
    "            b1 = (matrix1[state, action])[0]\n",
    "            d1 = (matrix1[state, action])[1]\n",
    "            u1 =  (matrix1[state, action])[2]\n",
    "            a1 = (matrix1[state, action])[3]\n",
    "\n",
    "            b2 = (matrix2[state, action])[0]\n",
    "            d2 = (matrix2[state, action])[1]\n",
    "            u2 =  (matrix2[state, action])[2]\n",
    "            a2 = (matrix2[state, action])[3]\n",
    "\n",
    "            harmony = b1*b2 + b1*u2 + b2*u1\n",
    "            conflict = b1*d2 + b2*d1\n",
    "            b = harmony / (1 - conflict)\n",
    "            u = u1 * u2 / (1 - conflict)\n",
    "            a = (a1 * (1 - u1) + a2 * (1 - u2)) / (2 - u1 - u2)\n",
    "            d = 1 - (b + u)\n",
    "\n",
    "            (fused[state, action])[0] = b\n",
    "            (fused[state, action])[1] = d\n",
    "            (fused[state, action])[2] = u\n",
    "            (fused[state, action])[3] = a\n",
    "    return fused"
   ]
  },
  {
   "cell_type": "code",
   "execution_count": 7,
   "metadata": {},
   "outputs": [
    {
     "name": "stdout",
     "output_type": "stream",
     "text": [
      "[[(0.5, 0.5, 0., 0.5) (0.5, 0.5, 0., 0.5)]\n",
      " [(0.5, 0.5, 0., 0.5) (0.5, 0.5, 0., 0.5)]\n",
      " [(0.5, 0.5, 0., 0.5) (0.5, 0.5, 0., 0.5)]]\n"
     ]
    }
   ],
   "source": [
    "fused = beliefConstraintFusion(policy_cert, opinion)\n",
    "print(fused)"
   ]
  },
  {
   "cell_type": "markdown",
   "metadata": {},
   "source": [
    "## 3"
   ]
  },
  {
   "cell_type": "code",
   "execution_count": 8,
   "metadata": {},
   "outputs": [],
   "source": [
    "def cert_to_prob(cert_matrix):\n",
    "    rows = cert_matrix.shape[0]\n",
    "    cols = cert_matrix.shape[1]\n",
    "    prob_matrix = np.zeros((rows, cols))\n",
    "    for state in range(rows):\n",
    "        for action in range(cols):\n",
    "            b = (cert_matrix[state, action])[0]\n",
    "            u = (cert_matrix[state, action])[2]\n",
    "            a = (cert_matrix[state, action])[3]\n",
    "            prob_matrix[state, action] = b + a * u\n",
    "    return prob_matrix"
   ]
  },
  {
   "cell_type": "code",
   "execution_count": 9,
   "metadata": {},
   "outputs": [
    {
     "name": "stdout",
     "output_type": "stream",
     "text": [
      "[[0.5 0.5]\n",
      " [0.5 0.5]\n",
      " [0.5 0.5]]\n"
     ]
    }
   ],
   "source": [
    "policy = cert_to_prob(fused)\n",
    "print(policy)"
   ]
  }
 ],
 "metadata": {
  "kernelspec": {
   "display_name": ".venv",
   "language": "python",
   "name": "python3"
  },
  "language_info": {
   "codemirror_mode": {
    "name": "ipython",
    "version": 3
   },
   "file_extension": ".py",
   "mimetype": "text/x-python",
   "name": "python",
   "nbconvert_exporter": "python",
   "pygments_lexer": "ipython3",
   "version": "3.8.2"
  }
 },
 "nbformat": 4,
 "nbformat_minor": 2
}
