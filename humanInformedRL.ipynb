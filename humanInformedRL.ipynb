{
 "cells": [
  {
   "cell_type": "code",
   "execution_count": 1,
   "metadata": {},
   "outputs": [],
   "source": [
    "import numpy as np\n",
    "import gymnasium as gym\n",
    "env = gym.make('FrozenLake-v1', is_slippery = False)\n",
    "stateDim = 3#env.observation_space.n #size of state space, 16\n",
    "actionDim = 2#env.action_space.n #size of action space, 4"
   ]
  },
  {
   "cell_type": "markdown",
   "metadata": {},
   "source": [
    "## Notes"
   ]
  },
  {
   "cell_type": "markdown",
   "metadata": {},
   "source": [
    "- Step 3.4 Fusion \n",
    "    - Need to choose appropriate fusion operator (BCF used as a placeholder for now)\n",
    "    - Working on fusionOperators notebook as a reference to choose fusion operator moving forward (next main step for implementation)\n",
    "- Step 3.5 Transformation of opinions to probabilities \n",
    "    - May want to normalize the values $p_i$ within each row to ensure that $0 \\le p \\le 1$ and $\\sum p_i = 1$"
   ]
  },
  {
   "cell_type": "markdown",
   "metadata": {},
   "source": [
    "# 3.1 Gathering human opinion"
   ]
  },
  {
   "cell_type": "markdown",
   "metadata": {},
   "source": [
    "## 3.1.1 Initializing $\\kappa$"
   ]
  },
  {
   "cell_type": "code",
   "execution_count": 2,
   "metadata": {},
   "outputs": [],
   "source": [
    "def initializeKappa(stateDim, actionDim):\n",
    "    kappa = np.zeros((stateDim, actionDim), dtype = \"f, f, f, f\")\n",
    "    for state in range(stateDim):\n",
    "        for action in range(actionDim):\n",
    "            kappa[state, action] = (0, 0, 1, 1/actionDim)\n",
    "    return kappa"
   ]
  },
  {
   "cell_type": "code",
   "execution_count": 7,
   "metadata": {},
   "outputs": [
    {
     "name": "stdout",
     "output_type": "stream",
     "text": [
      "Initialized Kappa Matrix of Opinions is \n",
      "[[(0., 0., 1., 0.5) (0., 0., 1., 0.5)]\n",
      " [(0., 0., 1., 0.5) (0., 0., 1., 0.5)]\n",
      " [(0., 0., 1., 0.5) (0., 0., 1., 0.5)]]\n"
     ]
    }
   ],
   "source": [
    "kappa = initializeKappa(stateDim, actionDim)\n",
    "print(f\"Initialized Kappa Matrix of Opinions is \\n{kappa}\")"
   ]
  },
  {
   "cell_type": "markdown",
   "metadata": {},
   "source": [
    "## 3.1.2 Inserting an opinion into $\\kappa$"
   ]
  },
  {
   "cell_type": "code",
   "execution_count": 4,
   "metadata": {},
   "outputs": [],
   "source": [
    "def insertOpinion(kappa, opinion):\n",
    "    kappa[opinion[0], opinion[1]] = opinion[2]\n",
    "    return kappa"
   ]
  },
  {
   "cell_type": "code",
   "execution_count": 8,
   "metadata": {},
   "outputs": [
    {
     "name": "stdout",
     "output_type": "stream",
     "text": [
      "Kappa Matrix of with Opinions is \n",
      "[[(0. , 0., 1. , 0.5) (0. , 0., 1. , 0.5)]\n",
      " [(0. , 0., 1. , 0.5) (0.8, 0., 0.2, 0.5)]\n",
      " [(0. , 0., 1. , 0.5) (0. , 0., 1. , 0.5)]]\n"
     ]
    }
   ],
   "source": [
    "kappa = insertOpinion(kappa, [1, 1, (0.8, 0.0, 0.2, 1/actionDim)])\n",
    "print(f\"Kappa Matrix of with Opinions is \\n{kappa}\")"
   ]
  },
  {
   "cell_type": "markdown",
   "metadata": {},
   "source": [
    "# 3.2 Transformation of numerical preferences to probabilities "
   ]
  },
  {
   "cell_type": "code",
   "execution_count": 10,
   "metadata": {},
   "outputs": [
    {
     "name": "stdout",
     "output_type": "stream",
     "text": [
      "Theta Matrix of Numerical Preferences is \n",
      "[[0. 0.]\n",
      " [0. 0.]\n",
      " [0. 0.]]\n"
     ]
    }
   ],
   "source": [
    "#NOTE for this implementation we set theta as a matrix of zeros, but when merged with RL algorithm, we will pull theta from the agent\n",
    "theta = np.zeros((stateDim, actionDim))\n",
    "print(f\"Theta Matrix of Numerical Preferences is \\n{theta}\")"
   ]
  },
  {
   "cell_type": "markdown",
   "metadata": {},
   "source": [
    "## 3.2.1 Converting from numerical preferences to probabilities"
   ]
  },
  {
   "cell_type": "code",
   "execution_count": 11,
   "metadata": {},
   "outputs": [],
   "source": [
    "#https://pytorch.org/docs/stable/generated/torch.nn.Softmax.html\n",
    "def pi(state, actionDim, theta):\n",
    "    logits = np.zeros(actionDim)\n",
    "    for action in range(actionDim):\n",
    "        logits[action] = np.exp(theta[state, action])\n",
    "    return logits / np.sum(logits)"
   ]
  },
  {
   "cell_type": "code",
   "execution_count": 12,
   "metadata": {},
   "outputs": [],
   "source": [
    "def numToProb(stateDim, actionDim, theta):\n",
    "    \"\"\" Converts a matrix of numerical preferences to a matrix of probabilities\"\"\"\n",
    "    thetaProb = np.zeros((stateDim, actionDim))\n",
    "    for state in range(stateDim):\n",
    "        thetaProb[state] = pi(state, actionDim, theta)\n",
    "    return thetaProb"
   ]
  },
  {
   "cell_type": "code",
   "execution_count": 13,
   "metadata": {},
   "outputs": [
    {
     "name": "stdout",
     "output_type": "stream",
     "text": [
      "Pi Theta Matrix of Probabilities is \n",
      "[[0.5 0.5]\n",
      " [0.5 0.5]\n",
      " [0.5 0.5]]\n"
     ]
    }
   ],
   "source": [
    "thetaProb = numToProb(stateDim, actionDim, theta)\n",
    "print(f\"Pi Theta Matrix of Probabilities is \\n{thetaProb}\")"
   ]
  },
  {
   "cell_type": "markdown",
   "metadata": {},
   "source": [
    "# 3.3 Transformation of probabilities to opinions"
   ]
  },
  {
   "cell_type": "markdown",
   "metadata": {},
   "source": [
    "## 3.3.1 Converting probabilities to opinions"
   ]
  },
  {
   "cell_type": "code",
   "execution_count": 14,
   "metadata": {},
   "outputs": [],
   "source": [
    "def probToOpinion(stateDim, actionDim, thetaProb):\n",
    "    \"\"\"Converts a matrix of probabilities to a matrix of tuples of opinions (S Booleans)\"\"\"\n",
    "    thetaOpinion = np.zeros((stateDim, actionDim), dtype = \"f, f, f, f\")\n",
    "    for state in range(stateDim):\n",
    "        for action in range(actionDim):\n",
    "            p = thetaProb[state, action]\n",
    "            thetaOpinion[state, action] = (p, 1-p, 0, p)\n",
    "    return(thetaOpinion)\n"
   ]
  },
  {
   "cell_type": "code",
   "execution_count": 15,
   "metadata": {},
   "outputs": [
    {
     "name": "stdout",
     "output_type": "stream",
     "text": [
      "Pi Theta Matrix of Opinions is \n",
      "[[(0.5, 0.5, 0., 0.5) (0.5, 0.5, 0., 0.5)]\n",
      " [(0.5, 0.5, 0., 0.5) (0.5, 0.5, 0., 0.5)]\n",
      " [(0.5, 0.5, 0., 0.5) (0.5, 0.5, 0., 0.5)]]\n"
     ]
    }
   ],
   "source": [
    "thetaOpinion = probToOpinion(stateDim, actionDim, thetaProb)\n",
    "print(f\"Pi Theta Matrix of Opinions is \\n{thetaOpinion}\")"
   ]
  },
  {
   "cell_type": "markdown",
   "metadata": {},
   "source": [
    "# 3.4 Fusion"
   ]
  },
  {
   "cell_type": "code",
   "execution_count": 17,
   "metadata": {},
   "outputs": [],
   "source": [
    "def beliefConstraintFusion(matrix1, matrix2, stateDim, actionDim):\n",
    "    iota = np.zeros((stateDim, actionDim), dtype = \"f, f, f, f\")\n",
    "    for state in range(stateDim):\n",
    "        for action in range(actionDim):\n",
    "            b1 = (matrix1[state, action])[0]\n",
    "            d1 = (matrix1[state, action])[1]\n",
    "            u1 =  (matrix1[state, action])[2]\n",
    "            a1 = (matrix1[state, action])[3]\n",
    "\n",
    "            b2 = (matrix2[state, action])[0]\n",
    "            d2 = (matrix2[state, action])[1]\n",
    "            u2 =  (matrix2[state, action])[2]\n",
    "            a2 = (matrix2[state, action])[3]\n",
    "\n",
    "            harmony = b1*b2 + b1*u2 + b2*u1\n",
    "            conflict = b1*d2 + b2*d1\n",
    "            b = harmony / (1 - conflict)\n",
    "            u = u1 * u2 / (1 - conflict)\n",
    "            a = (a1 * (1 - u1) + a2 * (1 - u2)) / (2 - u1 - u2)\n",
    "            d = 1 - (b + u)\n",
    "\n",
    "            (iota[state, action])[0] = b\n",
    "            (iota[state, action])[1] = d\n",
    "            (iota[state, action])[2] = u\n",
    "            (iota[state, action])[3] = a\n",
    "    return iota"
   ]
  },
  {
   "cell_type": "code",
   "execution_count": 18,
   "metadata": {},
   "outputs": [
    {
     "name": "stdout",
     "output_type": "stream",
     "text": [
      "Iota Matrix of Fused Opinions is \n",
      "[[(0.5      , 0.5       , 0., 0.5) (0.5      , 0.5       , 0., 0.5)]\n",
      " [(0.5      , 0.5       , 0., 0.5) (0.8333333, 0.16666666, 0., 0.5)]\n",
      " [(0.5      , 0.5       , 0., 0.5) (0.5      , 0.5       , 0., 0.5)]]\n"
     ]
    }
   ],
   "source": [
    "iota = beliefConstraintFusion(kappa, thetaOpinion, stateDim, actionDim) \n",
    "print(f\"Iota Matrix of Fused Opinions is \\n{iota}\")"
   ]
  },
  {
   "cell_type": "markdown",
   "metadata": {},
   "source": [
    "# 3.5 Transformation of opinions to probabilities"
   ]
  },
  {
   "cell_type": "markdown",
   "metadata": {},
   "source": [
    "## 3.5.1 Converting from fused opinions to probabilities "
   ]
  },
  {
   "cell_type": "code",
   "execution_count": 19,
   "metadata": {},
   "outputs": [],
   "source": [
    "def opinionToProb(stateDim, actionDim, iota):\n",
    "    \"\"\"Converts a iota of tuples of opinions (SBool) to a iota of probabilities\"\"\"\n",
    "    thetaProb2 = np.zeros((stateDim, actionDim))\n",
    "    for state in range(stateDim):\n",
    "        for action in range(actionDim):\n",
    "            b = (iota[state, action])[0]\n",
    "            u = (iota[state, action])[2]\n",
    "            a = (iota[state, action])[3]\n",
    "            thetaProb2[state, action] = b + a * u\n",
    "    return thetaProb2\n"
   ]
  },
  {
   "cell_type": "code",
   "execution_count": 20,
   "metadata": {},
   "outputs": [
    {
     "name": "stdout",
     "output_type": "stream",
     "text": [
      "Pi Theta Matrix of Probabilities is \n",
      "[[0.5        0.5       ]\n",
      " [0.5        0.83333331]\n",
      " [0.5        0.5       ]]\n"
     ]
    }
   ],
   "source": [
    "thetaProb2 = opinionToProb(stateDim, actionDim, iota)\n",
    "print(f\"Pi Theta Matrix of Probabilities is \\n{thetaProb2}\")"
   ]
  },
  {
   "cell_type": "markdown",
   "metadata": {},
   "source": [
    "# 3.6 Transformation of probabilities to numerical preferences"
   ]
  },
  {
   "cell_type": "code",
   "execution_count": 24,
   "metadata": {},
   "outputs": [],
   "source": [
    "#https://search.r-project.org/CRAN/refmans/ohenery/html/inv_smax.html\n",
    "def piInverse(stateDim, actionDim, thetaProb):\n",
    "    theta = np.zeros((stateDim, actionDim))\n",
    "    for state in range(stateDim):\n",
    "        mu = thetaProb[state]\n",
    "        logSum = 0\n",
    "        for action in range(actionDim):\n",
    "            logSum += np.log(mu[action])\n",
    "        c = (-1 / actionDim) * logSum\n",
    "\n",
    "        for action in range(actionDim):\n",
    "            theta[state, action] = np.log(mu[action]) + c\n",
    "\n",
    "    return(theta)"
   ]
  },
  {
   "cell_type": "code",
   "execution_count": 23,
   "metadata": {},
   "outputs": [
    {
     "name": "stdout",
     "output_type": "stream",
     "text": [
      "Theta Matrix of Numerical Preferences is \n",
      "[[ 0.         0.       ]\n",
      " [-0.2554128  0.2554128]\n",
      " [ 0.         0.       ]]\n"
     ]
    }
   ],
   "source": [
    "theta2 = piInverse(stateDim, actionDim, thetaProb2)\n",
    "print(f\"Theta Matrix of Numerical Preferences is \\n{theta2}\")"
   ]
  }
 ],
 "metadata": {
  "kernelspec": {
   "display_name": "Python 3",
   "language": "python",
   "name": "python3"
  },
  "language_info": {
   "codemirror_mode": {
    "name": "ipython",
    "version": 3
   },
   "file_extension": ".py",
   "mimetype": "text/x-python",
   "name": "python",
   "nbconvert_exporter": "python",
   "pygments_lexer": "ipython3",
   "version": "3.8.2"
  }
 },
 "nbformat": 4,
 "nbformat_minor": 2
}
