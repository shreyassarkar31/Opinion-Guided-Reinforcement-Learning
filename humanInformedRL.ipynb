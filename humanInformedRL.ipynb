{
 "cells": [
  {
   "cell_type": "markdown",
   "metadata": {},
   "source": [
    "# Human Informed RL"
   ]
  },
  {
   "cell_type": "code",
   "execution_count": 1,
   "metadata": {},
   "outputs": [],
   "source": [
    "import numpy as np\n",
    "import gymnasium as gym\n",
    "env = gym.make('FrozenLake-v1', is_slippery = False)\n",
    "stateDim = 3#env.observation_space.n #size of state space, 16\n",
    "actionDim = 2#env.action_space.n #size of action space, 4"
   ]
  },
  {
   "cell_type": "markdown",
   "metadata": {},
   "source": [
    "<div>\n",
    "<img src=\"Steps.png\" width=\"500\"/>\n",
    "</div>"
   ]
  },
  {
   "cell_type": "markdown",
   "metadata": {},
   "source": [
    "# Functions"
   ]
  },
  {
   "cell_type": "code",
   "execution_count": 2,
   "metadata": {},
   "outputs": [],
   "source": [
    "def pi(state, theta, actionDim,):\n",
    "    logits = np.zeros(actionDim)\n",
    "    for action in range(actionDim):\n",
    "        logit = np.exp(theta[state, action])\n",
    "        logits[action] = logit\n",
    "    return logits / np.sum(logits)"
   ]
  },
  {
   "cell_type": "code",
   "execution_count": 3,
   "metadata": {},
   "outputs": [],
   "source": [
    "def piInverse(matrix, stateDim, actionDim):\n",
    "    \"\"\"Converts a matrix of probabilities to a matrix of numerical preferences using inverse softmax\"\"\"\n",
    "    numPrefMatrix = np.zeros((stateDim, actionDim))\n",
    "    for state in range(stateDim):\n",
    "        mu = matrix[state]\n",
    "        logSum = 0\n",
    "        for action in range(actionDim):\n",
    "            logSum += np.log(mu[action])\n",
    "        c = (-1 / actionDim) * logSum\n",
    "\n",
    "        for action in range(actionDim):\n",
    "            numPrefMatrix[state, action] = np.log(mu[action]) + c\n",
    "\n",
    "    return(numPrefMatrix)"
   ]
  },
  {
   "cell_type": "code",
   "execution_count": 4,
   "metadata": {},
   "outputs": [],
   "source": [
    "def numToProb(matrix, stateDim, actionDim):\n",
    "    \"\"\" Converts a matrix of numerical preferences to a matrix of probabilities\"\"\"\n",
    "    probMatrix = np.zeros((stateDim, actionDim))\n",
    "    for state in range(stateDim):\n",
    "        probMatrix[state] = pi(state, matrix, actionDim)\n",
    "    return probMatrix"
   ]
  },
  {
   "cell_type": "code",
   "execution_count": 5,
   "metadata": {},
   "outputs": [],
   "source": [
    "def probToOpinion(matrix, stateDim, actionDim):\n",
    "    \"\"\"Converts a matrix of probabilities to a matrix of tuples of opinions (S Booleans)\"\"\"\n",
    "    opinionMatrix = np.zeros((stateDim, actionDim), dtype = \"f, f, f, f\")\n",
    "    for state in range(stateDim):\n",
    "        for action in range(actionDim):\n",
    "            p = matrix[state, action]\n",
    "            opinionMatrix[state, action] = (p, 1-p, 0, p)\n",
    "    return(opinionMatrix)\n",
    "\n"
   ]
  },
  {
   "cell_type": "code",
   "execution_count": 6,
   "metadata": {},
   "outputs": [],
   "source": [
    "def opinionToProb(matrix, stateDim, actionDim):\n",
    "    \"\"\"Converts a matrix of tuples of opinions (SBool) to a matrix of probabilities\"\"\"\n",
    "    probMatrix = np.zeros((stateDim, actionDim))\n",
    "    for state in range(stateDim):\n",
    "        for action in range(actionDim):\n",
    "            b = (matrix[state, action])[0]\n",
    "            u = (matrix[state, action])[2]\n",
    "            a = (matrix[state, action])[3]\n",
    "            probMatrix[state, action] = b + a * u\n",
    "    return probMatrix\n"
   ]
  },
  {
   "cell_type": "code",
   "execution_count": 7,
   "metadata": {},
   "outputs": [],
   "source": [
    "def beliefConstraintFusion(matrix1, matrix2, stateDim, actionDim):\n",
    "    iota = np.zeros((stateDim, actionDim), dtype = \"f, f, f, f\")\n",
    "    for state in range(stateDim):\n",
    "        for action in range(actionDim):\n",
    "            b1 = (matrix1[state, action])[0]\n",
    "            d1 = (matrix1[state, action])[1]\n",
    "            u1 =  (matrix1[state, action])[2]\n",
    "            a1 = (matrix1[state, action])[3]\n",
    "\n",
    "            b2 = (matrix2[state, action])[0]\n",
    "            d2 = (matrix2[state, action])[1]\n",
    "            u2 =  (matrix2[state, action])[2]\n",
    "            a2 = (matrix2[state, action])[3]\n",
    "\n",
    "            harmony = b1*b2 + b1*u2 + b2*u1\n",
    "            conflict = b1*d2 + b2*d1\n",
    "            b = harmony / (1 - conflict)\n",
    "            u = u1 * u2 / (1 - conflict)\n",
    "            a = (a1 * (1 - u1) + a2 * (1 - u2)) / (2 - u1 - u2)\n",
    "            d = 1 - (b + u) #paper says d = 1 - b - u - a but I think this is an error bc b + d + u = 1\n",
    "\n",
    "            (iota[state, action])[0] = b\n",
    "            (iota[state, action])[1] = d\n",
    "            (iota[state, action])[2] = u\n",
    "            (iota[state, action])[3] = a\n",
    "    return iota"
   ]
  },
  {
   "cell_type": "markdown",
   "metadata": {},
   "source": [
    "## To Do"
   ]
  },
  {
   "cell_type": "code",
   "execution_count": null,
   "metadata": {},
   "outputs": [],
   "source": [
    "def consensusAndCompromiseFusion(matrix1, matrix2, stateDim, actionDim): #TODO\n",
    "    return 0 "
   ]
  },
  {
   "cell_type": "code",
   "execution_count": null,
   "metadata": {},
   "outputs": [],
   "source": [
    "def averagingBeliefFusion(matrix1, matrix2, stateDim, actionDim): #TODO\n",
    "    return 0"
   ]
  },
  {
   "cell_type": "code",
   "execution_count": null,
   "metadata": {},
   "outputs": [],
   "source": [
    "def weightedBeliefFusion(matrix1, matrix2, stateDim, actionDim): #TODO\n",
    "    return 0"
   ]
  },
  {
   "cell_type": "code",
   "execution_count": null,
   "metadata": {},
   "outputs": [],
   "source": [
    "def aleatoryCumulativeBeliefFusion(matrix1, matrix2, stateDim, actionDim): #TODO\n",
    "    return 0"
   ]
  },
  {
   "cell_type": "code",
   "execution_count": null,
   "metadata": {},
   "outputs": [],
   "source": [
    "def epistemicCumulativeBeliefFusion(matrix1, matrix2, stateDim, actionDim): #TODO\n",
    "    return 0"
   ]
  },
  {
   "cell_type": "markdown",
   "metadata": {},
   "source": [
    "# Main Code"
   ]
  },
  {
   "cell_type": "code",
   "execution_count": 18,
   "metadata": {},
   "outputs": [
    {
     "name": "stdout",
     "output_type": "stream",
     "text": [
      "Kappa Matrix of Opinions is \n",
      "[[(0., 0., 1., 0.5) (0., 0., 1., 0.5)]\n",
      " [(0., 0., 1., 0.5) (0., 0., 1., 0.5)]\n",
      " [(0., 0., 1., 0.5) (0., 0., 1., 0.5)]]\n"
     ]
    }
   ],
   "source": [
    "#step 1 gather human opinion #TODO \n",
    "# for now just hard code values, will come up with likert scale later\n",
    "kappa = np.zeros((stateDim, actionDim), dtype = \"f, f, f, f\")\n",
    "#agent has opinion on s1 a0 and s1 a1\n",
    "#kappa[1, 0] = (0.1, 0.7, 0.2, 0.5)\n",
    "#kappa[1, 1] = (0.8, 0.0, 0.2, 0.5)\n",
    "\n",
    "kappa[1, 0] = (0, 0, 1, 0.5)\n",
    "kappa[1, 1] = (0, 0, 1, 0.5)\n",
    "\n",
    "#agent does not have opinion on other state action pairs \n",
    "#paper says use dogmatic truth (1, 0, 0, 1)\n",
    "#I propose to use (0, 0 ,1, 1/actionDim) bc this means human is completely uncertain and thus does not provide b/d & maintains identity of at least BCF\n",
    "kappa[0, 0] = (0, 0, 1, 0.5)\n",
    "kappa[0, 1] = (0, 0, 1, 0.5)\n",
    "kappa[2, 0] = (0, 0, 1, 0.5)\n",
    "kappa[2, 1] = (0, 0, 1, 0.5)\n",
    "\n",
    "print(f\"Kappa Matrix of Opinions is \\n{kappa}\")"
   ]
  },
  {
   "cell_type": "code",
   "execution_count": 9,
   "metadata": {},
   "outputs": [
    {
     "name": "stdout",
     "output_type": "stream",
     "text": [
      "Theta Matrix of Numerical Preferences is \n",
      "[[0. 0.]\n",
      " [0. 0.]\n",
      " [0. 0.]]\n",
      "\n",
      "Pi Theta Matrix of Probabilities is \n",
      "[[0.5 0.5]\n",
      " [0.5 0.5]\n",
      " [0.5 0.5]]\n"
     ]
    }
   ],
   "source": [
    "#step 2 convert matrix of numerical preferences to matrix of probs\n",
    "theta = np.zeros((stateDim, actionDim))\n",
    "print(f\"Theta Matrix of Numerical Preferences is \\n{theta}\")\n",
    "\n",
    "thetaProb = numToProb(theta, stateDim, actionDim)\n",
    "print(f\"\\nPi Theta Matrix of Probabilities is \\n{thetaProb}\")"
   ]
  },
  {
   "cell_type": "code",
   "execution_count": 10,
   "metadata": {},
   "outputs": [
    {
     "name": "stdout",
     "output_type": "stream",
     "text": [
      "Pi Theta Matrix of Opinions is \n",
      "[[(0.5, 0.5, 0., 0.5) (0.5, 0.5, 0., 0.5)]\n",
      " [(0.5, 0.5, 0., 0.5) (0.5, 0.5, 0., 0.5)]\n",
      " [(0.5, 0.5, 0., 0.5) (0.5, 0.5, 0., 0.5)]]\n"
     ]
    }
   ],
   "source": [
    "#step 3 convert matrix of probs to matrix of opinions\n",
    "thetaOpinion = probToOpinion(thetaProb, stateDim, actionDim)\n",
    "print(f\"Pi Theta Matrix of Opinions is \\n{thetaOpinion}\")"
   ]
  },
  {
   "cell_type": "code",
   "execution_count": 15,
   "metadata": {},
   "outputs": [
    {
     "name": "stdout",
     "output_type": "stream",
     "text": [
      "Iota Matrix of Fused Opinions is \n",
      "[[(0.5, 0.5, 0., 0.5) (0.5, 0.5, 0., 0.5)]\n",
      " [(0.5, 0.5, 0., 0.5) (0.5, 0.5, 0., 0.5)]\n",
      " [(0.5, 0.5, 0., 0.5) (0.5, 0.5, 0., 0.5)]]\n"
     ]
    }
   ],
   "source": [
    "#step 4 fuse matrix of human and agent opinions into iota matrix #TODO\n",
    "iota = beliefConstraintFusion(kappa, thetaOpinion, stateDim, actionDim) \n",
    "print(f\"Iota Matrix of Fused Opinions is \\n{iota}\")"
   ]
  },
  {
   "cell_type": "code",
   "execution_count": 16,
   "metadata": {},
   "outputs": [
    {
     "name": "stdout",
     "output_type": "stream",
     "text": [
      "Pi Theta Matrix of Probabilities is \n",
      "[[0.5 0.5]\n",
      " [0.5 0.5]\n",
      " [0.5 0.5]]\n"
     ]
    }
   ],
   "source": [
    "#step 5 convert iota matrix of opinions into a matrix of probs\n",
    "thetaProb2 = opinionToProb(iota, stateDim, actionDim)\n",
    "print(f\"Pi Theta Matrix of Probabilities is \\n{thetaProb2}\")"
   ]
  },
  {
   "cell_type": "code",
   "execution_count": 17,
   "metadata": {},
   "outputs": [
    {
     "name": "stdout",
     "output_type": "stream",
     "text": [
      "Theta Matrix of Numerical Preferences is \n",
      "[[0. 0.]\n",
      " [0. 0.]\n",
      " [0. 0.]]\n"
     ]
    }
   ],
   "source": [
    "#step 6 convert matrix of probs into matrix of numerical preferences\n",
    "theta2 = piInverse(thetaProb2, stateDim, actionDim)\n",
    "print(f\"Theta Matrix of Numerical Preferences is \\n{theta2}\")"
   ]
  }
 ],
 "metadata": {
  "kernelspec": {
   "display_name": "Python 3",
   "language": "python",
   "name": "python3"
  },
  "language_info": {
   "codemirror_mode": {
    "name": "ipython",
    "version": 3
   },
   "file_extension": ".py",
   "mimetype": "text/x-python",
   "name": "python",
   "nbconvert_exporter": "python",
   "pygments_lexer": "ipython3",
   "version": "3.8.2"
  }
 },
 "nbformat": 4,
 "nbformat_minor": 2
}
