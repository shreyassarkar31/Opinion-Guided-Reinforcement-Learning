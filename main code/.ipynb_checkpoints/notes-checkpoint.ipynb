{
 "cells": [
  {
   "cell_type": "code",
   "execution_count": 3,
   "metadata": {
    "jupyter": {
     "source_hidden": true
    }
   },
   "outputs": [],
   "source": [
    "import numpy as np\n",
    "import gymnasium as gym\n",
    "\n",
    "env = gym.make('FrozenLake-v1', map_name = '4x4')\n",
    "states = env.observation_space.n\n",
    "actions = env.action_space.n"
   ]
  },
  {
   "cell_type": "code",
   "execution_count": 7,
   "metadata": {
    "jupyter": {
     "source_hidden": true
    }
   },
   "outputs": [],
   "source": [
    "def identify_states(n):\n",
    "    top_row = []\n",
    "    for i in range(0, n):\n",
    "        top_row.append(i)\n",
    "\n",
    "    bottom_row = []\n",
    "    for i in range(0, n):\n",
    "        state = n ** 2 - n + i\n",
    "        bottom_row.append(state)\n",
    "\n",
    "    left_col = []\n",
    "    for i in range(0, n):\n",
    "        state = n * i\n",
    "        left_col.append(state)\n",
    "\n",
    "    right_col = []\n",
    "    for i in range(0, n):\n",
    "        state = n * i + (n - 1)\n",
    "        right_col.append(state)\n",
    "\n",
    "    return top_row, bottom_row, left_col, right_col"
   ]
  },
  {
   "cell_type": "code",
   "execution_count": 8,
   "metadata": {
    "jupyter": {
     "source_hidden": true
    }
   },
   "outputs": [],
   "source": [
    "n = int(np.sqrt(states))\n",
    "top_row, bottom_row, left_col, right_col = identify_states(n)"
   ]
  },
  {
   "cell_type": "code",
   "execution_count": 22,
   "metadata": {
    "jupyter": {
     "source_hidden": true
    }
   },
   "outputs": [],
   "source": [
    "def get_pairs(state):\n",
    "    list = []\n",
    "    \n",
    "    if state == 0: # top left corner\n",
    "        list.append((state + 1, 0)) # left action to state\n",
    "        list.append((state + n, 3)) # up action to state\n",
    "    elif state == (n - 1): #top right corner\n",
    "        list.append((state - 1, 2)) # right action to state\n",
    "        list.append((state + n, 3)) # up action to state\n",
    "    elif state == (n * (n - 1)): #bottom left corner\n",
    "        list.append((state + 1, 0)) # left action to state\n",
    "        list.append((state - n, 1)) # down action to state \n",
    "    elif state == ((n ** 2) - 1): #bottom right corner\n",
    "        list.append((state + 1, 0)) # left action to state\n",
    "        list.append((state - n, 1)) # down action to state \n",
    "    elif state in left_col:\n",
    "        list.append((state + 1, 0)) # left action to state\n",
    "        list.append((state - n, 1)) # down action to state \n",
    "        list.append((state + n, 3)) # up action to state\n",
    "    elif state in right_col:\n",
    "        list.append((state - n, 1)) # down action to state \n",
    "        list.append((state - 1, 2)) # right action to state\n",
    "        list.append((state + n, 3)) # up action to state\n",
    "    elif state in top_row:\n",
    "        list.append((state + 1, 0)) # left action to state\n",
    "        list.append((state - 1, 2)) # right action to state\n",
    "        list.append((state + n, 3)) # up action to state\n",
    "    elif state in bottom_row:\n",
    "        list.append((state + 1, 0)) # left action to state\n",
    "        list.append((state - n, 1)) # down action to state \n",
    "        list.append((state - 1, 2)) # right action to state\n",
    "    elif state in range(0, n*n):\n",
    "        list.append((state + 1, 0)) # left action to state\n",
    "        list.append((state - n, 1)) # down action to state \n",
    "        list.append((state - 1, 2)) # right action to state\n",
    "        list.append((state + n, 3)) # up action to state\n",
    "    else:\n",
    "        raise Exception(\"State does not exist in environment.\")\n",
    "\n",
    "    return list"
   ]
  },
  {
   "cell_type": "markdown",
   "metadata": {},
   "source": [
    "# Main"
   ]
  },
  {
   "cell_type": "code",
   "execution_count": 10,
   "metadata": {
    "jupyter": {
     "source_hidden": true
    }
   },
   "outputs": [],
   "source": [
    "# make template matrix\n",
    "opinion = np.zeros((states, actions), dtype = \"f, f, f, f\")\n",
    "for state in range(states):\n",
    "    for action in range(actions):\n",
    "        opinion[state, action] = (0, 0, 1, 1/actions)"
   ]
  },
  {
   "cell_type": "code",
   "execution_count": 13,
   "metadata": {
    "jupyter": {
     "source_hidden": true
    }
   },
   "outputs": [],
   "source": [
    "file = open('opinion.txt', 'r')\n",
    "content = file.read()\n",
    "file.close()\n",
    "\n",
    "lines = content.splitlines()"
   ]
  },
  {
   "cell_type": "code",
   "execution_count": 14,
   "metadata": {},
   "outputs": [],
   "source": [
    "# first line is user's uncertainty \n",
    "u = float(lines[0])"
   ]
  },
  {
   "cell_type": "code",
   "execution_count": 25,
   "metadata": {},
   "outputs": [
    {
     "name": "stdout",
     "output_type": "stream",
     "text": [
      "[(1, 0), (4, 3)]\n"
     ]
    }
   ],
   "source": [
    "states_actions = get_pairs(state)\n",
    "print(states_actions)\n",
    "\n",
    "for pair in states_actions:\n",
    "    curr_state = pair[0]\n",
    "    curr_action = pair[1]"
   ]
  },
  {
   "cell_type": "code",
   "execution_count": 26,
   "metadata": {},
   "outputs": [],
   "source": [
    "for i in range(1, len(lines)):\n",
    "    a = lines[i].split(',')\n",
    "    state = int(a[0])\n",
    "\n",
    "    if a[1] == '+': \n",
    "        b = float(a[2])\n",
    "        d = 1 - b\n",
    "    elif a[1] == '-': \n",
    "        d = float(a[2])\n",
    "        b = 1 - d\n",
    "\n",
    "    states_actions = get_pairs(state)\n",
    "\n",
    "    for pair in states_actions:\n",
    "        curr_state = pair[0]\n",
    "        curr_action = pair[1]\n",
    "\n",
    "    opinion[curr_state, curr_action]= (b, d, u, 1/actions)"
   ]
  },
  {
   "cell_type": "code",
   "execution_count": 19,
   "metadata": {},
   "outputs": [
    {
     "name": "stdout",
     "output_type": "stream",
     "text": [
      "[[(1., 0., 0.2, 0.25) (0., 0., 1. , 0.25) (0., 0., 1. , 0.25)\n",
      "  (0., 0., 1. , 0.25)]\n",
      " [(0., 1., 0.2, 0.25) (0., 0., 1. , 0.25) (0., 0., 1. , 0.25)\n",
      "  (0., 0., 1. , 0.25)]\n",
      " [(0., 0., 1. , 0.25) (0., 0., 1. , 0.25) (0., 0., 1. , 0.25)\n",
      "  (0., 0., 1. , 0.25)]\n",
      " [(0., 0., 1. , 0.25) (0., 0., 1. , 0.25) (0., 0., 1. , 0.25)\n",
      "  (0., 0., 1. , 0.25)]\n",
      " [(0., 0., 1. , 0.25) (0., 0., 1. , 0.25) (0., 0., 1. , 0.25)\n",
      "  (0., 0., 1. , 0.25)]\n",
      " [(0., 0., 1. , 0.25) (0., 0., 1. , 0.25) (0., 0., 1. , 0.25)\n",
      "  (0., 0., 1. , 0.25)]\n",
      " [(0., 0., 1. , 0.25) (0., 0., 1. , 0.25) (0., 0., 1. , 0.25)\n",
      "  (0., 0., 1. , 0.25)]\n",
      " [(0., 0., 1. , 0.25) (0., 0., 1. , 0.25) (0., 0., 1. , 0.25)\n",
      "  (0., 0., 1. , 0.25)]\n",
      " [(0., 0., 1. , 0.25) (0., 0., 1. , 0.25) (0., 0., 1. , 0.25)\n",
      "  (0., 0., 1. , 0.25)]\n",
      " [(0., 0., 1. , 0.25) (0., 0., 1. , 0.25) (0., 0., 1. , 0.25)\n",
      "  (0., 0., 1. , 0.25)]\n",
      " [(0., 0., 1. , 0.25) (0., 0., 1. , 0.25) (0., 0., 1. , 0.25)\n",
      "  (0., 0., 1. , 0.25)]\n",
      " [(0., 0., 1. , 0.25) (0., 0., 1. , 0.25) (0., 0., 1. , 0.25)\n",
      "  (0., 0., 1. , 0.25)]\n",
      " [(0., 0., 1. , 0.25) (0., 0., 1. , 0.25) (0., 0., 1. , 0.25)\n",
      "  (0., 0., 1. , 0.25)]\n",
      " [(0., 0., 1. , 0.25) (0., 0., 1. , 0.25) (0., 0., 1. , 0.25)\n",
      "  (0., 0., 1. , 0.25)]\n",
      " [(0., 0., 1. , 0.25) (0., 0., 1. , 0.25) (0., 0., 1. , 0.25)\n",
      "  (0., 0., 1. , 0.25)]\n",
      " [(0., 0., 1. , 0.25) (0., 0., 1. , 0.25) (0., 0., 1. , 0.25)\n",
      "  (0., 0., 1. , 0.25)]]\n"
     ]
    }
   ],
   "source": [
    "print(opinion)"
   ]
  },
  {
   "cell_type": "code",
   "execution_count": null,
   "metadata": {},
   "outputs": [],
   "source": []
  }
 ],
 "metadata": {
  "kernelspec": {
   "display_name": "Python 3 (ipykernel)",
   "language": "python",
   "name": "python3"
  },
  "language_info": {
   "codemirror_mode": {
    "name": "ipython",
    "version": 3
   },
   "file_extension": ".py",
   "mimetype": "text/x-python",
   "name": "python",
   "nbconvert_exporter": "python",
   "pygments_lexer": "ipython3",
   "version": "3.11.0"
  }
 },
 "nbformat": 4,
 "nbformat_minor": 4
}
