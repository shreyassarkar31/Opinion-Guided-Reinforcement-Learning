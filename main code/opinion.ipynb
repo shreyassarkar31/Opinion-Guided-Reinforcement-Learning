{
 "cells": [
  {
   "cell_type": "code",
   "execution_count": 3,
   "metadata": {},
   "outputs": [],
   "source": [
    "import numpy as np\n",
    "import gymnasium as gym\n",
    "\n",
    "env = gym.make('FrozenLake-v1', map_name = '8x8')\n",
    "states = env.observation_space.n\n",
    "actions = env.action_space.n"
   ]
  },
  {
   "cell_type": "code",
   "execution_count": 1,
   "metadata": {},
   "outputs": [
    {
     "ename": "NameError",
     "evalue": "name 'np' is not defined",
     "output_type": "error",
     "traceback": [
      "\u001b[0;31m---------------------------------------------------------------------------\u001b[0m",
      "\u001b[0;31mNameError\u001b[0m                                 Traceback (most recent call last)",
      "\u001b[0;32m/var/folders/w4/nk4nbf5x21n5j3m08wx2my0r0000gn/T/ipykernel_31257/3081572447.py\u001b[0m in \u001b[0;36m<module>\u001b[0;34m\u001b[0m\n\u001b[0;32m----> 1\u001b[0;31m \u001b[0mopinion\u001b[0m \u001b[0;34m=\u001b[0m \u001b[0mnp\u001b[0m\u001b[0;34m.\u001b[0m\u001b[0mzeros\u001b[0m\u001b[0;34m(\u001b[0m\u001b[0;34m(\u001b[0m\u001b[0mstates\u001b[0m\u001b[0;34m,\u001b[0m \u001b[0mactions\u001b[0m\u001b[0;34m)\u001b[0m\u001b[0;34m,\u001b[0m \u001b[0mdtype\u001b[0m \u001b[0;34m=\u001b[0m \u001b[0;34m\"f, f, f, f\"\u001b[0m\u001b[0;34m)\u001b[0m\u001b[0;34m\u001b[0m\u001b[0;34m\u001b[0m\u001b[0m\n\u001b[0m\u001b[1;32m      2\u001b[0m \u001b[0;32mfor\u001b[0m \u001b[0mstate\u001b[0m \u001b[0;32min\u001b[0m \u001b[0mrange\u001b[0m\u001b[0;34m(\u001b[0m\u001b[0mstates\u001b[0m\u001b[0;34m)\u001b[0m\u001b[0;34m:\u001b[0m\u001b[0;34m\u001b[0m\u001b[0;34m\u001b[0m\u001b[0m\n\u001b[1;32m      3\u001b[0m     \u001b[0;32mfor\u001b[0m \u001b[0maction\u001b[0m \u001b[0;32min\u001b[0m \u001b[0mrange\u001b[0m\u001b[0;34m(\u001b[0m\u001b[0mactions\u001b[0m\u001b[0;34m)\u001b[0m\u001b[0;34m:\u001b[0m\u001b[0;34m\u001b[0m\u001b[0;34m\u001b[0m\u001b[0m\n\u001b[1;32m      4\u001b[0m         \u001b[0mopinion\u001b[0m\u001b[0;34m[\u001b[0m\u001b[0mstate\u001b[0m\u001b[0;34m,\u001b[0m \u001b[0maction\u001b[0m\u001b[0;34m]\u001b[0m \u001b[0;34m=\u001b[0m \u001b[0;34m(\u001b[0m\u001b[0;36m0\u001b[0m\u001b[0;34m,\u001b[0m \u001b[0;36m0\u001b[0m\u001b[0;34m,\u001b[0m \u001b[0;36m1\u001b[0m\u001b[0;34m,\u001b[0m \u001b[0;36m1\u001b[0m\u001b[0;34m/\u001b[0m\u001b[0mactions\u001b[0m\u001b[0;34m)\u001b[0m\u001b[0;34m\u001b[0m\u001b[0;34m\u001b[0m\u001b[0m\n\u001b[1;32m      5\u001b[0m \u001b[0;34m\u001b[0m\u001b[0m\n",
      "\u001b[0;31mNameError\u001b[0m: name 'np' is not defined"
     ]
    }
   ],
   "source": [
    "opinion = np.zeros((states, actions), dtype = \"f, f, f, f\")\n",
    "for state in range(states):\n",
    "    for action in range(actions):\n",
    "        opinion[state, action] = (0, 0, 1, 1/actions)\n",
    "\n",
    "#TODO - create a better way to input these\n",
    "# decrease prob of going to holes\n",
    "opinion[20, 0] = (0, 0.7, 0.3, 1/actions)\n",
    "opinion[30, 0] = (0, 0.7, 0.3, 1/actions) \n",
    "opinion[36, 0] = (0, 0.7, 0.3, 1/actions)           \n",
    "opinion[43, 0] = (0, 0.7, 0.3, 1/actions)\n",
    "opinion[47, 0] = (0, 0.7, 0.3, 1/actions)      \n",
    "opinion[50, 0] = (0, 0.7, 0.3, 1/actions)\n",
    "opinion[55, 0] = (0, 0.7, 0.3, 1/actions)   \n",
    "opinion[60, 0] = (0, 0.7, 0.3, 1/actions)      \n",
    "        \n",
    "opinion[11, 1] = (0, 0.7, 0.3, 1/actions)\n",
    "opinion[21, 1] = (0, 0.7, 0.3, 1/actions)\n",
    "opinion[27, 1] = (0, 0.7, 0.3, 1/actions)\n",
    "opinion[33, 1] = (0, 0.7, 0.3, 1/actions)\n",
    "opinion[34, 1] = (0, 0.7, 0.3, 1/actions)\n",
    "opinion[38, 1] = (0, 0.7, 0.3, 1/actions)\n",
    "opinion[44, 1] = (0, 0.7, 0.3, 1/actions)\n",
    "opinion[51, 1] = (0, 0.7, 0.3, 1/actions)\n",
    "\n",
    "opinion[18, 2] = (0, 0.7, 0.3, 1/actions)\n",
    "opinion[28, 2] = (0, 0.7, 0.3, 1/actions)\n",
    "opinion[34, 2] = (0, 0.7, 0.3, 1/actions)\n",
    "opinion[40, 2] = (0, 0.7, 0.3, 1/actions)\n",
    "opinion[48, 2] = (0, 0.7, 0.3, 1/actions)\n",
    "opinion[51, 2] = (0, 0.7, 0.3, 1/actions)\n",
    "opinion[58, 2] = (0, 0.7, 0.3, 1/actions)\n",
    "\n",
    "opinion[27, 3] = (0, 0.7, 0.3, 1/actions)   \n",
    "opinion[37, 3] = (0, 0.7, 0.3, 1/actions) \n",
    "opinion[43, 3] = (0, 0.7, 0.3, 1/actions)   \n",
    "opinion[50, 3] = (0, 0.7, 0.3, 1/actions) \n",
    "opinion[57, 3] = (0, 0.7, 0.3, 1/actions) \n",
    "opinion[60, 3] = (0, 0.7, 0.3, 1/actions)    \n",
    "opinion[62, 3] = (0, 0.7, 0.3, 1/actions)        \n",
    "\n",
    "opinion = np.save('opinion', opinion)"
   ]
  }
 ],
 "metadata": {
  "kernelspec": {
   "display_name": "base",
   "language": "python",
   "name": "python3"
  },
  "language_info": {
   "codemirror_mode": {
    "name": "ipython",
    "version": 3
   },
   "file_extension": ".py",
   "mimetype": "text/x-python",
   "name": "python",
   "nbconvert_exporter": "python",
   "pygments_lexer": "ipython3",
   "version": "3.9.13"
  }
 },
 "nbformat": 4,
 "nbformat_minor": 2
}
