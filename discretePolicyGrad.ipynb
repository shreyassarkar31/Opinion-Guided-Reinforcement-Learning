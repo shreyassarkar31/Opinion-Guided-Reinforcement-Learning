{
 "cells": [
  {
   "cell_type": "markdown",
   "metadata": {},
   "source": [
    "# Discrete Policy Gradient"
   ]
  },
  {
   "cell_type": "markdown",
   "metadata": {},
   "source": [
    "https://towardsdatascience.com/policy-gradients-in-reinforcement-learning-explained-ecec7df94245\n",
    "\n",
    "https://towardsdatascience.com/cliff-walking-problem-with-the-discrete-policy-gradient-algorithm-59d1900d80d8"
   ]
  },
  {
   "cell_type": "markdown",
   "metadata": {},
   "source": [
    "<div>\n",
    "<img src=\"REINFORCE.png\" width=\"500\"/>\n",
    "</div>"
   ]
  },
  {
   "cell_type": "code",
   "execution_count": 1,
   "metadata": {},
   "outputs": [],
   "source": [
    "import gymnasium as gym\n",
    "import numpy as np\n",
    "import matplotlib.pyplot as plt\n",
    "env = gym.make('FrozenLake-v1', is_slippery = False)"
   ]
  },
  {
   "cell_type": "code",
   "execution_count": 10,
   "metadata": {},
   "outputs": [],
   "source": [
    "def pi(state, theta):\n",
    "\n",
    "    logits = np.zeros(env.action_space.n)\n",
    "    for action in range(env.action_space.n):\n",
    "        logit = np.exp(theta[state, action])\n",
    "        logits[action] = logit\n",
    "    return logits / np.sum(logits)"
   ]
  },
  {
   "cell_type": "code",
   "execution_count": 11,
   "metadata": {},
   "outputs": [],
   "source": [
    "def calcReturn(epRewards: list, gamma = 1): #TODO This does not work for gamma other than 1\n",
    "    \n",
    "    epReturns = []\n",
    "    temp = 0\n",
    "\n",
    "    epRewards.reverse()\n",
    "\n",
    "    for i in range (0, len(epRewards)):\n",
    "        temp += epRewards[i] * gamma ** (i)\n",
    "        epReturns.append(temp)\n",
    "\n",
    "    epReturns.reverse()\n",
    "\n",
    "    return epReturns"
   ]
  },
  {
   "cell_type": "code",
   "execution_count": 12,
   "metadata": {},
   "outputs": [],
   "source": [
    "def updatePolicy(epStates, epActions, epProbs, epReturns, theta, alpha):\n",
    "    for t in range(0,len(epStates)):\n",
    "        state = epStates[t]\n",
    "        action = epActions[t]\n",
    "        prob = epProbs[t]\n",
    "        actionReturn = epReturns[t]\n",
    "\n",
    "        phi = np.zeros([1, env.action_space.n])\n",
    "        phi[0, action] = 1\n",
    " \n",
    "        score = phi - prob\n",
    "        theta[state, :] = theta[state, :] + alpha * actionReturn * score\n",
    "\n",
    "    return theta"
   ]
  },
  {
   "cell_type": "code",
   "execution_count": 13,
   "metadata": {},
   "outputs": [],
   "source": [
    "def run(MAX_EPISODES = 1000, is_training = False, isSlippery = False, alpha = 0.9, gamma = 0.9):\n",
    "    env = gym.make('FrozenLake-v1', is_slippery = isSlippery)\n",
    "    \n",
    "    totalReward = []\n",
    "    totalSuccesses = 0\n",
    "\n",
    "    if is_training == False:\n",
    "        theta = np.zeros((env.observation_space.n, env.action_space.n))\n",
    "    else:\n",
    "        theta = np.loadtxt('theta', delimiter=\",\")\n",
    "\n",
    "\n",
    "    for episode in range(MAX_EPISODES):\n",
    "        state = env.reset()[0]\n",
    "        epStates, epActions, epProbs, epRewards, epTotalReward = [], [], [], [], 0\n",
    "        terminated, truncated = False, False\n",
    "\n",
    "        #1. gather trajectory\n",
    "        while not terminated and not truncated:\n",
    "            epStates.append(state)\n",
    "            actionProbs = pi(state, theta)\n",
    "            epProbs.append(actionProbs)\n",
    "            action = np.random.choice(np.array([0, 1, 2, 3]), p = actionProbs)\n",
    "            epActions.append(action)\n",
    "            state, reward, terminated, truncated, __ = env.step(action)\n",
    "            epRewards.append(reward)\n",
    "            epTotalReward += reward\n",
    "            if reward == 1: totalSuccesses += 1\n",
    "\n",
    "\n",
    "        #2. calculate episode return & add total episode reward to totalReward\n",
    "        epReturns = calcReturn(epRewards, 1)\n",
    "        totalReward.append(sum(epRewards))\n",
    "            \n",
    "        #3. update policy\n",
    "        updatePolicy(epStates, epActions, epProbs, epReturns, theta, alpha)\n",
    "\n",
    "    np.savetxt('theta', theta, delimiter= ',')\n",
    "    env.close()\n",
    "    \n",
    "    #4. evaluate model\n",
    "    sumRewards = np.zeros(MAX_EPISODES)\n",
    "    for t in range(MAX_EPISODES):\n",
    "        sumRewards[t] = np.sum(totalReward[max(0, t-100):(t+1)])\n",
    "    plt.plot(sumRewards)\n",
    "    plt.show()\n"
   ]
  },
  {
   "cell_type": "code",
   "execution_count": 15,
   "metadata": {},
   "outputs": [
    {
     "data": {
      "image/png": "[encoded data removed]",
      "text/plain": [
       "<Figure size 640x480 with 1 Axes>"
      ]
     },
     "metadata": {},
     "output_type": "display_data"
    }
   ],
   "source": [
    "run(MAX_EPISODES = 100, isSlippery = False)"
   ]
  }
 ],
 "metadata": {
  "kernelspec": {
   "display_name": "Python 3",
   "language": "python",
   "name": "python3"
  },
  "language_info": {
   "codemirror_mode": {
    "name": "ipython",
    "version": 3
   },
   "file_extension": ".py",
   "mimetype": "text/x-python",
   "name": "python",
   "nbconvert_exporter": "python",
   "pygments_lexer": "ipython3",
   "version": "3.8.2"
  }
 },
 "nbformat": 4,
 "nbformat_minor": 2
}
